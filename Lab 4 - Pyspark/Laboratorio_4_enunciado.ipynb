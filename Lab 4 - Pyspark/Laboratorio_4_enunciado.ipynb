{
 "cells": [
  {
   "cell_type": "markdown",
   "metadata": {
    "cell_id": "e37cb69cb73a49c2ad07cf670e073cb7",
    "deepnote_cell_height": 156.390625,
    "deepnote_cell_type": "markdown",
    "id": "XUZ1dFPHzAHl"
   },
   "source": [
    "<h1><center>Laboratorio 4: Spark y EDA</center></h1>\n",
    "\n",
    "<center><strong>MDS7202: Laboratorio de Programación Científica para Ciencia de Datos - Primavera 2024</strong></center>"
   ]
  },
  {
   "cell_type": "markdown",
   "metadata": {
    "id": "PkEUN6c8S-E_"
   },
   "source": [
    "### Cuerpo Docente:\n",
    "\n",
    "- Profesores: Ignacio Meza, Sebastián Tinoco\n",
    "- Auxiliar: Eduardo Moya\n",
    "- Ayudantes: Nicolás Ojeda, Melanie Peña, Valentina Rojas"
   ]
  },
  {
   "cell_type": "markdown",
   "metadata": {
    "cell_id": "8ebcb0f2f70c43319279fdd28c13fe89",
    "deepnote_cell_height": 171.796875,
    "deepnote_cell_type": "markdown",
    "id": "tXflExjqzAHr"
   },
   "source": [
    "### Equipo: SUPER IMPORTANTE - notebooks sin nombre no serán revisados\n",
    "\n",
    "- Nombre de alumno 1: Cristopher Urbina H.\n",
    "- Nombre de alumno 2: Joaquin Zamora\n"
   ]
  },
  {
   "cell_type": "markdown",
   "metadata": {
    "cell_id": "290822720f3e4484b09e762655bcdb76",
    "deepnote_cell_height": 62,
    "deepnote_cell_type": "markdown",
    "id": "AD-V0bbZzAHr"
   },
   "source": "### **Link de repositorio de GitHub:** [Repositorio](https://github.com/CrisU8/MDS7202-Primavera2024)"
  },
  {
   "cell_type": "markdown",
   "metadata": {
    "cell_id": "60255b81ff0349ad9b18f598a8d71386",
    "deepnote_cell_height": 216,
    "deepnote_cell_type": "markdown",
    "id": "hnYD2hBMAwXf",
    "tags": []
   },
   "source": [
    "## Reglas:\n",
    "\n",
    "- **Grupos de 2 personas**\n",
    "- Fecha de entrega: 6 días de plazo con descuento de 1 punto por día. Entregas Jueves a las 23:59.\n",
    "- Instrucciones del lab el viernes a las 16:15 en formato online. Asistencia no es obligatoria.\n",
    "- <u>Prohibidas las copias</u>. Cualquier intento de copia será debidamente penalizado con el reglamento de la escuela.\n",
    "- Tienen que subir el laboratorio a u-cursos y a su repositorio de github. Labs que no estén en u-cursos no serán revisados. Recuerden que el repositorio también tiene nota.\n",
    "- Cualquier duda fuera del horario de clases al foro. Mensajes al equipo docente serán respondidos por este medio.\n",
    "- Pueden usar cualquier material del curso que estimen conveniente."
   ]
  },
  {
   "cell_type": "markdown",
   "metadata": {
    "cell_id": "5bf6f5f66dcd4da9a6926774cec108ab",
    "deepnote_cell_height": 114.390625,
    "deepnote_cell_type": "markdown",
    "id": "xzz695obAwXg",
    "tags": []
   },
   "source": [
    "### Temas a tratar\n",
    "\n",
    "- Introducción al manejo y análisis de grandes volúmenes de datos por medio de la libreria `pyspark`."
   ]
  },
  {
   "cell_type": "markdown",
   "metadata": {
    "cell_id": "50ec30f08f2548a29bc979ed1741f5a0",
    "deepnote_cell_height": 243.390625,
    "deepnote_cell_type": "markdown",
    "id": "6uBLPj1PzAHs"
   },
   "source": [
    "### Objetivos principales del laboratorio\n",
    "\n",
    "- Entender, aplicar y aprovechar las ventajas que nos ofrece la libreria `pyspark` para manejar datos tabulares de gran volúmen.\n",
    "- Crear gráficos para el desarrollo de Análisis de Datos Exploratorios (EDA)."
   ]
  },
  {
   "cell_type": "markdown",
   "metadata": {
    "id": "f7hHEyTgm12s"
   },
   "source": [
    "### Datos del Lab\n",
    "\n",
    "- Base de datos: https://gitlab.com/imezadelajara/datos_clase_7_mds7202/-/raw/main/datos_lab_spark.parquet\n",
    "- Objeto serializado: https://gitlab.com/imezadelajara/datos_clase_7_mds7202/-/raw/main/object.pkl"
   ]
  },
  {
   "cell_type": "markdown",
   "metadata": {
    "id": "6CrDdk5NRAKe"
   },
   "source": [
    "## 1. Preguntas Teóricas [12 puntos]\n",
    "(2 por pregunta)"
   ]
  },
  {
   "cell_type": "markdown",
   "metadata": {
    "id": "EmDMGUTxLp7M"
   },
   "source": [
    "<center>\n",
    "<img src=\"https://img.buzzfeed.com/buzzfeed-static/static/2018-08/1/17/enhanced/buzzfeed-prod-web-05/anigif_enhanced-9173-1533160033-1.gif\" width=350 />\n",
    "\n"
   ]
  },
  {
   "cell_type": "markdown",
   "metadata": {
    "id": "pGZZcxMWRdIa"
   },
   "source": [
    "Responda en  máximo 5 líneas las siguientes preguntas:\n",
    "1. ¿Qué es Apache Spark y cuáles son sus principales ventajas sobre Pandas?\n",
    "2. ¿Qué es un RDD en Spark? Describe una de sus principales características. ¿Qué tienen que ver con los dataframes?.\n",
    "3. Diferencia entre transformaciones y acciones en Spark. Proporciona ejemplos de cada una. ¿Qué ocurre internamente cuando se ejecuta una acción?\n",
    "4. Explica la importancia del particionamiento en Spark y cómo afecta el rendimiento del procesamiento de datos.\n",
    "5. ¿Cuáles son las funciones de Spark Driver y Spark Executor?\n",
    "6. ¿Qué es el Catalyst Optimizer en Apache Spark y cuál es su función principal en la optimización de consultas SQL?\n"
   ]
  },
  {
   "cell_type": "markdown",
   "metadata": {
    "id": "1elJgE8JRn2O"
   },
   "source": [
    "**Respuestas**\n",
    "\n",
    "> 1. Apache spark es un motor computacional para procesar grandes cantidades de datos mediante la computación distribuida haciendo uso de los principios de MapReduce. Siendo, esta última una gran ventaja sobre pandas al trabajar con Big Data.\n",
    "> 2. Un Resilient Distributed Dataframe es un tipo de dataframe, es decir, permite almacenar datos de manera columnar, pero a diferencia de lo bien conocidos dataframes de `Pandas`, estos ofrecen todas las ventajas del paralelismo que ofrece spark.\n",
    "> 3. Spark tiene un sistema de \"Activación desfasado\", es decir, las transformaciones (join, group by, agregaciones, etc) empleadas en un dataframe no ocurren hasta que se realiza una acción sobre este (collect, display, show, count, etc). Cuando se ejecuta una acción, se crea el plan de ejecución, se ejecuta, se ejecutan las tareas en los nodos de cada cluster, finalmente se alamcenan los resultados.\n",
    "> 4. Para aprovechar adecuadamente las ventajas del paralelismo que ofrece spark, es importante ocupar particiones adecuadas, ya que un número perqueño de particiones puede llevar a problemas de eficiencia, sobrecargando al driver, por otro lado un número pequeño de particiones puede sobrecargar ciertos nodos dejando a otros inactivos, provocando ineficiencia en el procesamiento, y perdiendo dinero por los nodos que podrian usarse y no se usan.\n",
    "> 5. Driver es el encargado distribuir las tareas hacia los Ejecutores, quienes valga la redundancia las ejecutan.\n",
    "> 6. Es un framework que transforma y optimiza consultas y operaciones para ejecutarlas de manera eficiente."
   ]
  },
  {
   "cell_type": "markdown",
   "metadata": {
    "cell_id": "00002-bf13ea5a-d8bf-4cee-879e-ba1c7035e657",
    "deepnote_cell_type": "markdown",
    "id": "b020ce37"
   },
   "source": [
    "## Parte Práctica\n",
    "\n"
   ]
  },
  {
   "cell_type": "markdown",
   "metadata": {
    "id": "k0DaDvtgEYTV"
   },
   "source": [
    "<center>\n",
    "<img src=\"https://pbs.twimg.com/ad_img/1285681293590749189/kDckYy6Z?format=png&name=900x900\" width=350 />"
   ]
  },
  {
   "cell_type": "markdown",
   "metadata": {
    "id": "uW1dg_5_WR8S"
   },
   "source": [
    "Juan Carlos Bodoque, el famoso periodista y empresario, decidió diversificar su portafolio de negocios y crear su propia plataforma de e-commerce. Después de varios años de investigar y analizar el mercado financiero, finalmente logró fundar Bodoque E-Shop con el objetivo de ofrecer a sus clientes una experiencia personalizada y confiable en sus transacciones.\n",
    "\n",
    "Sin embargo, con la llegada de los aliens al planeta Tierra, aparecen nuevos desafíos para el negocio. Por ello, Bodoque decide invertir en un equipo de expertos en tecnología y comercio interplanetario, para que Bodoque Shop implemente las últimas innovaciones en servicio al cliente para garantizar la satisfacción y fidelización de sus nuevos clientes.\n",
    "\n",
    "El primer objetivo de Bodoque E-Shop será la hacer un análisis exploratorio para entender mejor el comportamiento de los usuarios en la plataforma. Para ello Bodoque les hace entrega de un extenso dataset en el que se registran las actividades que han realizado sus clientes durante los últimos meses. A continuación se presenta un diccionario de variables que levanto el equipo de consultores interplanetarios de Bodoque:\n",
    "\n",
    "1. `Transaction ID`: A unique identifier for each transaction.\n",
    "2. `Customer ID`: A unique identifier for each customer.\n",
    "3. `Transaction Amount`: The total amount of money exchanged in the transaction in USD.\n",
    "4. `Transaction Date`: The date and time when the transaction took place.\n",
    "5. `Payment Method`: The method used to complete the transaction (e.g., credit card, PayPal, etc.).\n",
    "6. `Product Category`: The category of the product involved in the transaction.\n",
    "7. `Quantity`: The number of products involved in the transaction.\n",
    "8. `Customer Age`: The age of the customer making the transaction.\n",
    "9. `Customer Location`: The geographical location of the customer.\n",
    "10. `Device Used`: The type of device used to make the transaction (e.g., mobile, desktop).\n",
    "11. `IP Address`: The IP address of the device used for the transaction.\n",
    "Shipping Address: The address where the product was shipped.\n",
    "12. `Billing Address`: The address associated with the payment method.\n",
    "13. `Is An Alien`: A binary indicator of whether customer is an alien.\n",
    "14. `Account Age Days`: The age of the customer's account in days at the time of the transaction.\n",
    "15. `Transaction Hour`: The hour of the day when the transaction occurred.\n"
   ]
  },
  {
   "cell_type": "markdown",
   "metadata": {
    "cell_id": "1769820f70244385ab5ac51f7509b6de",
    "deepnote_cell_height": 61.133331298828125,
    "deepnote_cell_type": "markdown",
    "id": "MhISwri4zAHy"
   },
   "source": [
    "### Importamos librerias utiles y cargamos los datos😸"
   ]
  },
  {
   "cell_type": "code",
   "metadata": {
    "id": "xHoq7VBlJoS3",
    "ExecuteTime": {
     "end_time": "2024-09-06T22:49:14.156214Z",
     "start_time": "2024-09-06T22:49:14.152957Z"
    }
   },
   "source": [
    "#!pip install pyspark\n",
    "#!apt-get install openjdk-8-jdk-headless -qq > /dev/null\n",
    "\n",
    "import os\n",
    "os.environ[\"JAVA_HOME\"] = \"/usr/lib/jvm/java-8-openjdk-amd64\"\n",
    "import warnings\n",
    "warnings.filterwarnings('ignore')"
   ],
   "outputs": [],
   "execution_count": 100
  },
  {
   "cell_type": "code",
   "metadata": {
    "id": "M6MKzLmPSHzY",
    "ExecuteTime": {
     "end_time": "2024-09-06T21:20:29.590093Z",
     "start_time": "2024-09-06T21:20:20.789897Z"
    }
   },
   "source": [
    "# Libreria Core del lab.\n",
    "import pyspark\n",
    "from pyspark import SparkConf, SparkContext\n",
    "from pyspark.sql import SparkSession\n",
    "import pandas as pd\n",
    "from pyspark.sql.types import StringType, IntegerType, FloatType\n",
    "\n",
    "\n",
    "#Libreria para plotear\n",
    "!pip install --upgrade plotly\n",
    "!pip install missingno\n",
    "import matplotlib.pyplot as plt\n",
    "import plotly.express as px"
   ],
   "outputs": [
    {
     "name": "stdout",
     "output_type": "stream",
     "text": [
      "Requirement already satisfied: plotly in /home/crisu/miniconda3/lib/python3.12/site-packages (5.24.0)\r\n",
      "Requirement already satisfied: tenacity>=6.2.0 in /home/crisu/miniconda3/lib/python3.12/site-packages (from plotly) (9.0.0)\r\n",
      "Requirement already satisfied: packaging in /home/crisu/miniconda3/lib/python3.12/site-packages (from plotly) (23.2)\r\n",
      "Requirement already satisfied: missingno in /home/crisu/miniconda3/lib/python3.12/site-packages (0.5.2)\r\n",
      "Requirement already satisfied: numpy in /home/crisu/miniconda3/lib/python3.12/site-packages (from missingno) (2.0.1)\r\n",
      "Requirement already satisfied: matplotlib in /home/crisu/miniconda3/lib/python3.12/site-packages (from missingno) (3.9.2)\r\n",
      "Requirement already satisfied: scipy in /home/crisu/miniconda3/lib/python3.12/site-packages (from missingno) (1.14.1)\r\n",
      "Requirement already satisfied: seaborn in /home/crisu/miniconda3/lib/python3.12/site-packages (from missingno) (0.13.2)\r\n",
      "Requirement already satisfied: contourpy>=1.0.1 in /home/crisu/miniconda3/lib/python3.12/site-packages (from matplotlib->missingno) (1.3.0)\r\n",
      "Requirement already satisfied: cycler>=0.10 in /home/crisu/miniconda3/lib/python3.12/site-packages (from matplotlib->missingno) (0.12.1)\r\n",
      "Requirement already satisfied: fonttools>=4.22.0 in /home/crisu/miniconda3/lib/python3.12/site-packages (from matplotlib->missingno) (4.53.1)\r\n",
      "Requirement already satisfied: kiwisolver>=1.3.1 in /home/crisu/miniconda3/lib/python3.12/site-packages (from matplotlib->missingno) (1.4.7)\r\n",
      "Requirement already satisfied: packaging>=20.0 in /home/crisu/miniconda3/lib/python3.12/site-packages (from matplotlib->missingno) (23.2)\r\n",
      "Requirement already satisfied: pillow>=8 in /home/crisu/miniconda3/lib/python3.12/site-packages (from matplotlib->missingno) (10.4.0)\r\n",
      "Requirement already satisfied: pyparsing>=2.3.1 in /home/crisu/miniconda3/lib/python3.12/site-packages (from matplotlib->missingno) (3.1.4)\r\n",
      "Requirement already satisfied: python-dateutil>=2.7 in /home/crisu/miniconda3/lib/python3.12/site-packages (from matplotlib->missingno) (2.9.0.post0)\r\n",
      "Requirement already satisfied: pandas>=1.2 in /home/crisu/miniconda3/lib/python3.12/site-packages (from seaborn->missingno) (2.2.2)\r\n",
      "Requirement already satisfied: pytz>=2020.1 in /home/crisu/miniconda3/lib/python3.12/site-packages (from pandas>=1.2->seaborn->missingno) (2024.1)\r\n",
      "Requirement already satisfied: tzdata>=2022.7 in /home/crisu/miniconda3/lib/python3.12/site-packages (from pandas>=1.2->seaborn->missingno) (2024.1)\r\n",
      "Requirement already satisfied: six>=1.5 in /home/crisu/miniconda3/lib/python3.12/site-packages (from python-dateutil>=2.7->matplotlib->missingno) (1.16.0)\r\n"
     ]
    }
   ],
   "execution_count": 2
  },
  {
   "cell_type": "markdown",
   "metadata": {
    "id": "9vJWSlEXYBqq"
   },
   "source": [
    "Cargue los datos usando **pyspark**\n",
    "\n",
    "> Nota: Puede ser util el siguiente [enlace](https://www.oracle.com/cl/java/technologies/downloads/#jdk22-windows)"
   ]
  },
  {
   "cell_type": "code",
   "metadata": {
    "id": "i9Uf-BTZXqXe",
    "ExecuteTime": {
     "end_time": "2024-09-06T21:26:32.013581Z",
     "start_time": "2024-09-06T21:26:30.884765Z"
    }
   },
   "source": [
    "# Configuración de Spark\n",
    "spark = SparkSession.builder \\\n",
    "    .appName(\"LAB4\") \\\n",
    "    .getOrCreate()\n",
    "\n",
    "# Obtener el contexto de Spark a partir de la sesión existente\n",
    "sc = spark.sparkContext\n",
    "\n",
    "# Ajustar el nivel de logs\n",
    "sc.setLogLevel(\"ERROR\")\n",
    "sc"
   ],
   "outputs": [
    {
     "data": {
      "text/plain": [
       "<SparkContext master=local[*] appName=Ejemplo con RDD>"
      ],
      "text/html": [
       "\n",
       "        <div>\n",
       "            <p><b>SparkContext</b></p>\n",
       "\n",
       "            <p><a href=\"http://192.168.1.100:4040\">Spark UI</a></p>\n",
       "\n",
       "            <dl>\n",
       "              <dt>Version</dt>\n",
       "                <dd><code>v3.5.2</code></dd>\n",
       "              <dt>Master</dt>\n",
       "                <dd><code>local[*]</code></dd>\n",
       "              <dt>AppName</dt>\n",
       "                <dd><code>Ejemplo con RDD</code></dd>\n",
       "            </dl>\n",
       "        </div>\n",
       "        "
      ]
     },
     "execution_count": 10,
     "metadata": {},
     "output_type": "execute_result"
    }
   ],
   "execution_count": 10
  },
  {
   "metadata": {
    "ExecuteTime": {
     "end_time": "2024-09-06T21:29:14.014154Z",
     "start_time": "2024-09-06T21:29:04.385089Z"
    }
   },
   "cell_type": "code",
   "source": [
    "import requests\n",
    "\n",
    "# URL del archivo Parquet\n",
    "url = \"https://gitlab.com/imezadelajara/datos_clase_7_mds7202/-/raw/main/datos_lab_spark.parquet\"\n",
    "\n",
    "# Descargar el archivo Parquet\n",
    "response = requests.get(url)\n",
    "\n",
    "# Guardar el archivo localmente\n",
    "with open(\"./datos_lab_spark.parquet\", \"wb\") as f:\n",
    "    f.write(response.content)\n",
    "\n",
    "print(\"Archivo descargado con éxito\")"
   ],
   "outputs": [
    {
     "name": "stdout",
     "output_type": "stream",
     "text": [
      "Archivo descargado con éxito\n"
     ]
    }
   ],
   "execution_count": 12
  },
  {
   "metadata": {
    "ExecuteTime": {
     "end_time": "2024-09-06T21:30:00.855985Z",
     "start_time": "2024-09-06T21:29:58.007885Z"
    }
   },
   "cell_type": "code",
   "source": [
    "df = spark.read.parquet(\"datos_lab_spark.parquet\")\n",
    "df.show()"
   ],
   "outputs": [
    {
     "name": "stdout",
     "output_type": "stream",
     "text": [
      "+--------------------+--------------------+------------------+-------------------+--------------+----------------+--------+------------+-----------------+-----------+---------------+--------------------+--------------------+-----------+----------------+----------------+\n",
      "|      Transaction ID|         Customer ID|Transaction Amount|   Transaction Date|Payment Method|Product Category|Quantity|Customer Age|Customer Location|Device Used|     IP Address|    Shipping Address|     Billing Address|Is An Alien|Account Age Days|Transaction Hour|\n",
      "+--------------------+--------------------+------------------+-------------------+--------------+----------------+--------+------------+-----------------+-----------+---------------+--------------------+--------------------+-----------+----------------+----------------+\n",
      "|4b4a5fe1-ec4d-4f9...|d1b87f62-51b2-493...|             58.09|2022-03-24 00:00:00| bank transfer|     electronics|     1.0|        17.0|    Amandaborough|       NULL| 212.195.49.198|Unit 8934 Box 005...|Unit 8934 Box 005...|        0.0|            NULL|             5.0|\n",
      "|bacd9392-73ce-481...|37de64d5-e901-4a5...|            389.96|2023-01-17 00:00:00|    debit card|     electronics|     2.0|        40.0|     East Timothy|    desktop|208.106.249.121|634 May Keys\\nPor...|634 May Keys\\nPor...|        0.0|            72.0|             8.0|\n",
      "|d936a024-3a1d-40d...|1bac88d6-4b22-409...|            134.19|2023-06-01 00:00:00|        PayPal|   home & garden|     2.0|        22.0|       Davismouth|     tablet|   76.63.88.212|                NULL|16282 Dana Falls ...|        0.0|            63.0|            NULL|\n",
      "|a30aaab5-4042-4b8...|2357c76e-9253-4ce...|            226.17|2019-07-02 00:00:00| bank transfer|        clothing|     5.0|        31.0|         Lynnberg|    desktop| 207.208.171.73|828 Strong Loaf A...|828 Strong Loaf A...|        0.0|           124.0|            20.0|\n",
      "|b0634f43-d07d-4ca...|45071bc5-9588-43e...|            121.53|2020-10-26 00:00:00| bank transfer|        clothing|     2.0|        51.0|             NULL|       NULL| 190.172.14.169|29799 Jason Hills...|29799 Jason Hills...|        0.0|           158.0|            NULL|\n",
      "|8c4711b8-7477-421...|29616b04-2d5c-472...|            166.41|2019-06-10 00:00:00| bank transfer|    toys & games|    NULL|        34.0|     Herreramouth|     tablet|           NULL|5699 Brittany Vil...|120 Kristi Dale\\n...|       NULL|            38.0|            10.0|\n",
      "|fd0342fe-6b16-4a3...|fe21ae29-ba4c-424...|             92.88|2020-10-09 00:00:00|        PayPal|    toys & games|     2.0|        14.0|        Ramosfort|     tablet|   13.45.27.192|                NULL|727 Gibson Island...|        0.0|           119.0|            19.0|\n",
      "|2d7299de-355b-479...|024257c3-5671-4de...|            318.14|2021-10-09 00:00:00|   credit card| health & beauty|     4.0|        42.0|             NULL|    desktop|131.141.230.185|3914 Davis Union\\...|                NULL|        0.0|           251.0|            NULL|\n",
      "|de51c9df-ab52-43a...|                NULL|              NULL|2019-03-22 00:00:00| bank transfer|   home & garden|    NULL|        38.0|       Carneyfurt|       NULL|           NULL|47893 Maldonado S...|                NULL|        0.0|           190.0|            19.0|\n",
      "|                NULL|aab93e75-582f-445...|            121.78|2022-02-28 00:00:00| bank transfer| health & beauty|     4.0|        39.0|       Brockburgh|     mobile| 174.32.252.238|2334 Briana Cente...|2334 Briana Cente...|        0.0|           343.0|            NULL|\n",
      "|f445a4e3-77cc-4d8...|6a2e1397-e24a-414...|            633.39|               NULL|          NULL|            NULL|     5.0|        20.0|        Craneport|     tablet|201.188.209.214|Unit 7360 Box 518...|55423 Henry Haven...|        0.0|           285.0|            22.0|\n",
      "|a93649c4-0d70-49d...|a30a5030-1c23-475...|             56.31|2024-02-15 00:00:00|        PayPal|            NULL|     3.0|        35.0|     West Michael|     tablet|           NULL|3684 Morris Inlet...|3684 Morris Inlet...|       NULL|            NULL|            NULL|\n",
      "|f5f4d967-c8c5-4b5...|                NULL|            275.87|2021-04-28 00:00:00|   credit card|   home & garden|     5.0|        NULL|      Melindafurt|     mobile| 105.173.82.111|4197 Lewis Way\\nM...|075 Monroe Court\\...|        0.0|           307.0|            11.0|\n",
      "|                NULL|                NULL|            178.94|2020-05-15 00:00:00|    debit card|        clothing|     4.0|        27.0|             NULL|     mobile| 211.46.251.245|298 Taylor Canyon...|                NULL|        0.0|           200.0|            NULL|\n",
      "|f1b10958-67af-48c...|bffedad1-43c1-4ef...|            374.04|               NULL| bank transfer|   home & garden|     5.0|        51.0|      Danielmouth|       NULL|   25.126.229.2|32232 Omar Glens\\...|32232 Omar Glens\\...|        0.0|            22.0|            NULL|\n",
      "|                NULL|4c80f103-ce9c-4e4...|            169.04|2022-11-16 00:00:00|    debit card|   home & garden|     1.0|        54.0|         Lamburgh|       NULL|  1.199.155.117|Unit 4478 Box 382...|Unit 4478 Box 382...|        0.0|            60.0|            NULL|\n",
      "|                NULL|                NULL|            254.48|2018-11-07 00:00:00| bank transfer|     electronics|    NULL|        NULL|West Melissashire|    desktop|   52.160.5.136|1117 Braun Courts...|1117 Braun Courts...|        0.0|           238.0|             8.0|\n",
      "|0a0ec219-172f-47a...|                NULL|              NULL|2021-05-26 00:00:00|          NULL|            NULL|     1.0|        41.0|     Port Rebecca|       NULL|   194.26.237.2|1228 Torres Squar...|1228 Torres Squar...|        0.0|            NULL|            14.0|\n",
      "|                NULL|e852cd05-3ee9-45a...|            263.28|2020-11-10 00:00:00|    debit card|            NULL|     3.0|        30.0|             NULL|     tablet|166.131.101.195|12872 Kevin Creek...|                NULL|        0.0|           159.0|            NULL|\n",
      "|                NULL|339683a0-3028-449...|            475.76|2023-09-04 00:00:00|        PayPal|            NULL|     2.0|        29.0|      Muellerstad|     mobile|  196.101.90.48|3496 Jason Ports\\...|3496 Jason Ports\\...|       NULL|           143.0|            10.0|\n",
      "+--------------------+--------------------+------------------+-------------------+--------------+----------------+--------+------------+-----------------+-----------+---------------+--------------------+--------------------+-----------+----------------+----------------+\n",
      "only showing top 20 rows\n",
      "\n"
     ]
    }
   ],
   "execution_count": 15
  },
  {
   "cell_type": "markdown",
   "metadata": {
    "id": "z6l6GNynYnh4"
   },
   "source": [
    "### 2. Limpieza con pyspark [8 puntos]\n",
    "(1 punto por pregunta)"
   ]
  },
  {
   "cell_type": "markdown",
   "metadata": {
    "id": "8DVdjYyOGRom"
   },
   "source": [
    "<center>\n",
    "<img src=\"https://miro.medium.com/v2/resize:fit:600/1*A6PpTrehGLxCJWNcUsDTNg.jpeg\" width=350 />\n",
    "\n"
   ]
  },
  {
   "cell_type": "markdown",
   "metadata": {
    "id": "sPGV40BjZekP"
   },
   "source": [
    "Para comenzar con el análisis exploratorio usted decide empezar limpiando la base de datos con **pyspark** dado el alto volumen de datos que genera diariamente Bodoque E-Shop.\n",
    "\n",
    "**Nota: NO SE PERMITE EL USO DE PANDAS EN ESTA SECCIÓN**\n",
    "\n",
    "\n",
    "\n",
    "1.   Utilice `.printSchema()` para revisar la estructura de los datos\n",
    "2.   Muestre las primeras 10 filas del dataset. Hint: utilice `.show()`\n",
    "3.   Imprima un muestreo aleatorio con el 5% de los datos diponibles. . Hint: utilice `.sample()`\n",
    "4. Revise los tipos de datos de cada columna con `.dtypes()` y responda la siguiente pregunta: ¿Cuál/es columna/s tiene/n un tipo de dato que no es el adecuado y por qué?\n",
    "5. Cree una función **cast_columns** que permita cambiar el tipo de datos de las columnas problemáticas. Luego utilice esta función respecto a lo respondido en la pregunta anterior.\n",
    "6. Cuente la cantidad de datos nulos por variable. Recuerde que Spark no posee un método que le permita calcular directamente los nulos.\n",
    "7. Elimine datos nulos.\n",
    "8. Elimine datos duplicados.\n"
   ]
  },
  {
   "cell_type": "code",
   "metadata": {
    "id": "nw95Jvr-DtwS",
    "ExecuteTime": {
     "end_time": "2024-09-06T21:30:31.237098Z",
     "start_time": "2024-09-06T21:30:31.232226Z"
    }
   },
   "source": "df.printSchema()",
   "outputs": [
    {
     "name": "stdout",
     "output_type": "stream",
     "text": [
      "root\n",
      " |-- Transaction ID: string (nullable = true)\n",
      " |-- Customer ID: string (nullable = true)\n",
      " |-- Transaction Amount: double (nullable = true)\n",
      " |-- Transaction Date: timestamp_ntz (nullable = true)\n",
      " |-- Payment Method: string (nullable = true)\n",
      " |-- Product Category: string (nullable = true)\n",
      " |-- Quantity: double (nullable = true)\n",
      " |-- Customer Age: double (nullable = true)\n",
      " |-- Customer Location: string (nullable = true)\n",
      " |-- Device Used: string (nullable = true)\n",
      " |-- IP Address: string (nullable = true)\n",
      " |-- Shipping Address: string (nullable = true)\n",
      " |-- Billing Address: string (nullable = true)\n",
      " |-- Is An Alien: double (nullable = true)\n",
      " |-- Account Age Days: double (nullable = true)\n",
      " |-- Transaction Hour: double (nullable = true)\n",
      "\n"
     ]
    }
   ],
   "execution_count": 16
  },
  {
   "metadata": {
    "ExecuteTime": {
     "end_time": "2024-09-06T21:31:26.292715Z",
     "start_time": "2024-09-06T21:31:26.041438Z"
    }
   },
   "cell_type": "code",
   "source": "df.show(10)",
   "outputs": [
    {
     "name": "stdout",
     "output_type": "stream",
     "text": [
      "+--------------------+--------------------+------------------+-------------------+--------------+----------------+--------+------------+-----------------+-----------+---------------+--------------------+--------------------+-----------+----------------+----------------+\n",
      "|      Transaction ID|         Customer ID|Transaction Amount|   Transaction Date|Payment Method|Product Category|Quantity|Customer Age|Customer Location|Device Used|     IP Address|    Shipping Address|     Billing Address|Is An Alien|Account Age Days|Transaction Hour|\n",
      "+--------------------+--------------------+------------------+-------------------+--------------+----------------+--------+------------+-----------------+-----------+---------------+--------------------+--------------------+-----------+----------------+----------------+\n",
      "|4b4a5fe1-ec4d-4f9...|d1b87f62-51b2-493...|             58.09|2022-03-24 00:00:00| bank transfer|     electronics|     1.0|        17.0|    Amandaborough|       NULL| 212.195.49.198|Unit 8934 Box 005...|Unit 8934 Box 005...|        0.0|            NULL|             5.0|\n",
      "|bacd9392-73ce-481...|37de64d5-e901-4a5...|            389.96|2023-01-17 00:00:00|    debit card|     electronics|     2.0|        40.0|     East Timothy|    desktop|208.106.249.121|634 May Keys\\nPor...|634 May Keys\\nPor...|        0.0|            72.0|             8.0|\n",
      "|d936a024-3a1d-40d...|1bac88d6-4b22-409...|            134.19|2023-06-01 00:00:00|        PayPal|   home & garden|     2.0|        22.0|       Davismouth|     tablet|   76.63.88.212|                NULL|16282 Dana Falls ...|        0.0|            63.0|            NULL|\n",
      "|a30aaab5-4042-4b8...|2357c76e-9253-4ce...|            226.17|2019-07-02 00:00:00| bank transfer|        clothing|     5.0|        31.0|         Lynnberg|    desktop| 207.208.171.73|828 Strong Loaf A...|828 Strong Loaf A...|        0.0|           124.0|            20.0|\n",
      "|b0634f43-d07d-4ca...|45071bc5-9588-43e...|            121.53|2020-10-26 00:00:00| bank transfer|        clothing|     2.0|        51.0|             NULL|       NULL| 190.172.14.169|29799 Jason Hills...|29799 Jason Hills...|        0.0|           158.0|            NULL|\n",
      "|8c4711b8-7477-421...|29616b04-2d5c-472...|            166.41|2019-06-10 00:00:00| bank transfer|    toys & games|    NULL|        34.0|     Herreramouth|     tablet|           NULL|5699 Brittany Vil...|120 Kristi Dale\\n...|       NULL|            38.0|            10.0|\n",
      "|fd0342fe-6b16-4a3...|fe21ae29-ba4c-424...|             92.88|2020-10-09 00:00:00|        PayPal|    toys & games|     2.0|        14.0|        Ramosfort|     tablet|   13.45.27.192|                NULL|727 Gibson Island...|        0.0|           119.0|            19.0|\n",
      "|2d7299de-355b-479...|024257c3-5671-4de...|            318.14|2021-10-09 00:00:00|   credit card| health & beauty|     4.0|        42.0|             NULL|    desktop|131.141.230.185|3914 Davis Union\\...|                NULL|        0.0|           251.0|            NULL|\n",
      "|de51c9df-ab52-43a...|                NULL|              NULL|2019-03-22 00:00:00| bank transfer|   home & garden|    NULL|        38.0|       Carneyfurt|       NULL|           NULL|47893 Maldonado S...|                NULL|        0.0|           190.0|            19.0|\n",
      "|                NULL|aab93e75-582f-445...|            121.78|2022-02-28 00:00:00| bank transfer| health & beauty|     4.0|        39.0|       Brockburgh|     mobile| 174.32.252.238|2334 Briana Cente...|2334 Briana Cente...|        0.0|           343.0|            NULL|\n",
      "+--------------------+--------------------+------------------+-------------------+--------------+----------------+--------+------------+-----------------+-----------+---------------+--------------------+--------------------+-----------+----------------+----------------+\n",
      "only showing top 10 rows\n",
      "\n"
     ]
    }
   ],
   "execution_count": 17
  },
  {
   "metadata": {
    "ExecuteTime": {
     "end_time": "2024-09-06T21:39:29.930154Z",
     "start_time": "2024-09-06T21:39:29.623593Z"
    }
   },
   "cell_type": "code",
   "source": [
    "df_sample = df.sample(fraction=0.05, seed=26)\n",
    "df_sample.show()"
   ],
   "outputs": [
    {
     "name": "stdout",
     "output_type": "stream",
     "text": [
      "+--------------------+--------------------+------------------+-------------------+--------------+----------------+--------+------------+-------------------+-----------+---------------+--------------------+--------------------+-----------+----------------+----------------+\n",
      "|      Transaction ID|         Customer ID|Transaction Amount|   Transaction Date|Payment Method|Product Category|Quantity|Customer Age|  Customer Location|Device Used|     IP Address|    Shipping Address|     Billing Address|Is An Alien|Account Age Days|Transaction Hour|\n",
      "+--------------------+--------------------+------------------+-------------------+--------------+----------------+--------+------------+-------------------+-----------+---------------+--------------------+--------------------+-----------+----------------+----------------+\n",
      "|                NULL|aab93e75-582f-445...|            121.78|2022-02-28 00:00:00| bank transfer| health & beauty|     4.0|        39.0|         Brockburgh|     mobile| 174.32.252.238|2334 Briana Cente...|2334 Briana Cente...|        0.0|           343.0|            NULL|\n",
      "|                NULL|e852cd05-3ee9-45a...|            263.28|2020-11-10 00:00:00|    debit card|            NULL|     3.0|        30.0|               NULL|     tablet|166.131.101.195|12872 Kevin Creek...|                NULL|        0.0|           159.0|            NULL|\n",
      "|e90f1cdd-21ef-4b9...|a16a3d44-8d89-469...|            847.22|2024-05-25 00:00:00| bank transfer|            NULL|     4.0|        32.0|   Port Danielville|     mobile|185.146.150.184|3047 Stevenson Cr...|3047 Stevenson Cr...|       NULL|            11.0|            NULL|\n",
      "|c5114b37-5125-476...|95a94ecc-35ae-412...|             46.76|2020-04-17 00:00:00|        PayPal| health & beauty|     2.0|        55.0|          East Mark|     mobile|   23.59.10.240|913 Peter Hollow\\...|                NULL|        0.0|            60.0|            12.0|\n",
      "|c43999a7-e101-408...|f7032265-a672-43b...|            251.05|               NULL|   credit card| health & beauty|     1.0|        31.0|        Richardstad|     tablet| 25.176.170.209|1249 Dunn Pine Su...|1249 Dunn Pine Su...|       NULL|             7.0|            22.0|\n",
      "|0d0abfac-5ced-4e5...|31d8907f-5a32-49a...|            171.68|2021-03-05 00:00:00| bank transfer| health & beauty|     4.0|        43.0|     East Kellyport|     tablet|           NULL|295 Reid Flats\\nN...|295 Reid Flats\\nN...|        0.0|            74.0|             1.0|\n",
      "|                NULL|845915a9-2748-47d...|            109.55|2018-06-12 00:00:00|    debit card|        clothing|     1.0|        62.0|         Amychester|     tablet|   19.27.69.135|8989 Melinda Expr...|                NULL|        0.0|           182.0|             4.0|\n",
      "|937628c6-b8bc-404...|72e760ed-ad02-409...|              NULL|2019-05-20 00:00:00|          NULL|   home & garden|    NULL|        32.0|Lake Alejandrohaven|     mobile| 108.142.52.122|Unit 6732 Box 921...|Unit 6732 Box 921...|        0.0|            NULL|            14.0|\n",
      "|53de16d4-d9a6-47a...|b33e9f30-8d0c-43b...|            158.77|2024-07-20 00:00:00| bank transfer|            NULL|     1.0|        30.0|        Melindaview|       NULL|           NULL|                NULL|85714 Stephen Dal...|       NULL|            NULL|             2.0|\n",
      "|2b685925-7b97-4f1...|                NULL|            104.05|2020-08-13 00:00:00|    debit card|     electronics|     3.0|        28.0|               NULL|       NULL|146.220.170.171|860 Johnson Plain...|                NULL|        0.0|           152.0|            17.0|\n",
      "|944cf1c7-ef63-4c9...|396795f9-e326-4b6...|             182.1|2020-09-20 00:00:00|   credit card|     electronics|    NULL|        NULL|        Amandaville|       NULL|  125.113.48.76|5459 Michael Rout...|5459 Michael Rout...|        0.0|           294.0|             7.0|\n",
      "|e74d707a-548d-4ad...|9e7b45eb-ed0f-4a1...|             69.67|               NULL|   credit card|    toys & games|     3.0|        41.0|        Chapmanview|     mobile|  23.223.207.22|                NULL|                NULL|       NULL|           307.0|             2.0|\n",
      "|e5e2f160-af62-403...|b7c9d407-06dc-462...|            170.67|2020-04-11 00:00:00| bank transfer|            NULL|     5.0|        44.0|          Forbeston|     tablet| 63.125.226.219|                NULL|6309 Jones Causew...|       NULL|           191.0|             3.0|\n",
      "|b25d9c0e-fd20-42c...|                NULL|            329.44|2019-08-04 00:00:00|        PayPal|            NULL|     4.0|        NULL|   West Christopher|       NULL|  19.243.24.189|                NULL|138 Hunt Mountain...|        0.0|           330.0|            NULL|\n",
      "|                NULL|                NULL|              NULL|2021-03-29 00:00:00|        PayPal|   home & garden|     4.0|        36.0|  Lake Jenniferview|     tablet|  75.88.199.127|                NULL|64080 Lee Forest ...|       NULL|           328.0|            12.0|\n",
      "|4458536b-1f3a-423...|                NULL|             66.93|               NULL|        PayPal|        clothing|     2.0|        46.0|               NULL|     mobile|           NULL|                NULL|99943 Mark Crossi...|       NULL|            NULL|             1.0|\n",
      "|8d6ccbc9-b8c4-448...|8bd99e8e-ea20-446...|            118.67|2023-09-28 00:00:00|   credit card| health & beauty|     3.0|        49.0|        Torresmouth|     tablet|           NULL|85008 Bradshaw Ro...|85008 Bradshaw Ro...|       NULL|           233.0|            15.0|\n",
      "|e54d88b3-a9b8-420...|c2557634-a2bb-4fe...|            247.66|2019-11-05 00:00:00|          NULL| health & beauty|     3.0|        29.0|               NULL|       NULL|           NULL|                NULL|916 Joshua Trail ...|        1.0|           105.0|            NULL|\n",
      "|0464c0e9-d3d8-4fe...|                NULL|              NULL|2019-04-15 00:00:00|        PayPal|            NULL|     3.0|        42.0|         New Daniel|     mobile|113.174.195.232|46043 Davila Road...|                NULL|        0.0|           335.0|            15.0|\n",
      "|                NULL|f0406e8e-1954-453...|            176.58|               NULL|          NULL|    toys & games|    NULL|        53.0|          Davisbury|    desktop| 150.62.158.243|                NULL|73253 Melissa Cou...|       NULL|           307.0|            20.0|\n",
      "+--------------------+--------------------+------------------+-------------------+--------------+----------------+--------+------------+-------------------+-----------+---------------+--------------------+--------------------+-----------+----------------+----------------+\n",
      "only showing top 20 rows\n",
      "\n"
     ]
    }
   ],
   "execution_count": 25
  },
  {
   "metadata": {
    "ExecuteTime": {
     "end_time": "2024-09-06T21:34:09.339697Z",
     "start_time": "2024-09-06T21:34:09.334266Z"
    }
   },
   "cell_type": "code",
   "source": "df_sample.dtypes",
   "outputs": [
    {
     "data": {
      "text/plain": [
       "[('Transaction ID', 'string'),\n",
       " ('Customer ID', 'string'),\n",
       " ('Transaction Amount', 'double'),\n",
       " ('Transaction Date', 'timestamp_ntz'),\n",
       " ('Payment Method', 'string'),\n",
       " ('Product Category', 'string'),\n",
       " ('Quantity', 'double'),\n",
       " ('Customer Age', 'double'),\n",
       " ('Customer Location', 'string'),\n",
       " ('Device Used', 'string'),\n",
       " ('IP Address', 'string'),\n",
       " ('Shipping Address', 'string'),\n",
       " ('Billing Address', 'string'),\n",
       " ('Is An Alien', 'double'),\n",
       " ('Account Age Days', 'double'),\n",
       " ('Transaction Hour', 'double')]"
      ]
     },
     "execution_count": 24,
     "metadata": {},
     "output_type": "execute_result"
    }
   ],
   "execution_count": 24
  },
  {
   "metadata": {},
   "cell_type": "markdown",
   "source": "> Columnas como las de edades y cantidades, tendrian más sentido siendo enteras. Is an alien tambien tendria más sentido siendo un entero, la edad de la cuenta en días y la hora de transaccion tambien son valores que son enteros."
  },
  {
   "cell_type": "code",
   "metadata": {
    "ExecuteTime": {
     "end_time": "2024-09-06T21:44:49.575378Z",
     "start_time": "2024-09-06T21:44:49.571328Z"
    }
   },
   "source": [
    "def cast_columns(df, cols_types):\n",
    "    \"\"\"\n",
    "    Cambia el tipo de múltiples columnas en un DataFrame de Spark.\n",
    "\n",
    "    Parámetros:\n",
    "    - df: DataFrame de Spark.\n",
    "    - cols_types: Diccionario con nombres de columnas como claves y tipos de datos de Spark como valores.\n",
    "\n",
    "    Retorna:\n",
    "    - DataFrame de Spark con tipos de columnas modificados.\n",
    "    \"\"\"\n",
    "    for col_name, new_type in cols_types.items():\n",
    "        df = df.withColumn(col_name, df[col_name].cast(new_type))\n",
    "    return df"
   ],
   "outputs": [],
   "execution_count": 26
  },
  {
   "metadata": {
    "ExecuteTime": {
     "end_time": "2024-09-06T21:47:34.420986Z",
     "start_time": "2024-09-06T21:47:34.417439Z"
    }
   },
   "cell_type": "code",
   "source": "from pyspark.sql.types import StringType, IntegerType, FloatType",
   "outputs": [],
   "execution_count": 29
  },
  {
   "metadata": {
    "ExecuteTime": {
     "end_time": "2024-09-06T21:48:01.280567Z",
     "start_time": "2024-09-06T21:48:01.188706Z"
    }
   },
   "cell_type": "code",
   "source": [
    "cols_to_cast = {\"Quantity\": IntegerType(), \"Is An Alien\": IntegerType(),\n",
    "                \"Customer Age\":IntegerType(),\n",
    "                \"Account Age Days\":IntegerType(),\n",
    "                \"Transaction Hour\":IntegerType()}\n",
    "df_con_casteo = cast_columns(df, cols_to_cast)\n",
    "df_con_casteo.printSchema()"
   ],
   "outputs": [
    {
     "name": "stdout",
     "output_type": "stream",
     "text": [
      "root\n",
      " |-- Transaction ID: string (nullable = true)\n",
      " |-- Customer ID: string (nullable = true)\n",
      " |-- Transaction Amount: double (nullable = true)\n",
      " |-- Transaction Date: timestamp_ntz (nullable = true)\n",
      " |-- Payment Method: string (nullable = true)\n",
      " |-- Product Category: string (nullable = true)\n",
      " |-- Quantity: integer (nullable = true)\n",
      " |-- Customer Age: integer (nullable = true)\n",
      " |-- Customer Location: string (nullable = true)\n",
      " |-- Device Used: string (nullable = true)\n",
      " |-- IP Address: string (nullable = true)\n",
      " |-- Shipping Address: string (nullable = true)\n",
      " |-- Billing Address: string (nullable = true)\n",
      " |-- Is An Alien: integer (nullable = true)\n",
      " |-- Account Age Days: integer (nullable = true)\n",
      " |-- Transaction Hour: integer (nullable = true)\n",
      "\n"
     ]
    }
   ],
   "execution_count": 32
  },
  {
   "metadata": {
    "ExecuteTime": {
     "end_time": "2024-09-06T21:49:42.755656Z",
     "start_time": "2024-09-06T21:49:40.151607Z"
    }
   },
   "cell_type": "code",
   "source": [
    "from pyspark.sql.from pyspark.sql.functions import col, sum\n",
    "functions import col, sum\n",
    "\n",
    "nulos = df.select([sum(col(c).isNull().cast(\"int\")).alias(c) for c in df.columns])\n",
    "\n",
    "nulos.show()"
   ],
   "outputs": [
    {
     "name": "stderr",
     "output_type": "stream",
     "text": [
      "[Stage 11:==================================================>       (7 + 1) / 8]\r"
     ]
    },
    {
     "name": "stdout",
     "output_type": "stream",
     "text": [
      "+--------------+-----------+------------------+----------------+--------------+----------------+--------+------------+-----------------+-----------+----------+----------------+---------------+-----------+----------------+----------------+\n",
      "|Transaction ID|Customer ID|Transaction Amount|Transaction Date|Payment Method|Product Category|Quantity|Customer Age|Customer Location|Device Used|IP Address|Shipping Address|Billing Address|Is An Alien|Account Age Days|Transaction Hour|\n",
      "+--------------+-----------+------------------+----------------+--------------+----------------+--------+------------+-----------------+-----------+----------+----------------+---------------+-----------+----------------+----------------+\n",
      "|        126886|     126847|            126840|          126831|        126877|          126814|  126966|      126826|           126781|     126911|    126929|          126734|         126804|     126828|          126886|          126953|\n",
      "+--------------+-----------+------------------+----------------+--------------+----------------+--------+------------+-----------------+-----------+----------+----------------+---------------+-----------+----------------+----------------+\n",
      "\n"
     ]
    },
    {
     "name": "stderr",
     "output_type": "stream",
     "text": [
      "                                                                                \r"
     ]
    }
   ],
   "execution_count": 34
  },
  {
   "metadata": {
    "ExecuteTime": {
     "end_time": "2024-09-06T21:54:04.218745Z",
     "start_time": "2024-09-06T21:54:02.242413Z"
    }
   },
   "cell_type": "code",
   "source": [
    "# Eliminacion de datos nulos\n",
    "df = df.dropna()\n",
    "df = df.dropDuplicates()\n",
    "df.show()"
   ],
   "outputs": [
    {
     "name": "stderr",
     "output_type": "stream",
     "text": [
      "[Stage 14:==================================================>       (7 + 1) / 8]\r"
     ]
    },
    {
     "name": "stdout",
     "output_type": "stream",
     "text": [
      "+--------------------+--------------------+------------------+-------------------+--------------+----------------+--------+------------+-----------------+-----------+---------------+--------------------+--------------------+-----------+----------------+----------------+\n",
      "|      Transaction ID|         Customer ID|Transaction Amount|   Transaction Date|Payment Method|Product Category|Quantity|Customer Age|Customer Location|Device Used|     IP Address|    Shipping Address|     Billing Address|Is An Alien|Account Age Days|Transaction Hour|\n",
      "+--------------------+--------------------+------------------+-------------------+--------------+----------------+--------+------------+-----------------+-----------+---------------+--------------------+--------------------+-----------+----------------+----------------+\n",
      "|48738ee5-2a9f-41a...|35940e8d-0d3a-49b...|            312.37|2021-03-17 00:00:00|    debit card|   home & garden|     2.0|        45.0|  Port Karenburgh|     tablet|  52.108.253.19|23601 Melissa Can...|23601 Melissa Can...|        0.0|            44.0|             4.0|\n",
      "|b8139ed1-4849-453...|f50c91d9-a44d-48a...|             15.32|2020-10-22 00:00:00| bank transfer|   home & garden|     1.0|        46.0|     Rebeccaville|     tablet|   99.70.136.94|887 George Statio...|887 George Statio...|        0.0|            75.0|             7.0|\n",
      "|03fa7e0e-f007-404...|053682d9-9cf2-4be...|             30.87|2019-07-16 00:00:00|        PayPal|        clothing|     2.0|        43.0|      North Jenny|     mobile|   49.99.10.115|85027 Michelle Fo...|85027 Michelle Fo...|        0.0|           298.0|             9.0|\n",
      "|09608426-5628-44c...|93923722-7547-4b9...|            221.47|2021-11-25 00:00:00|    debit card|   home & garden|     3.0|        29.0|    South Johnton|     mobile|  4.165.118.181|2620 Katrina Tunn...|2620 Katrina Tunn...|        1.0|           268.0|            22.0|\n",
      "|d2698270-4e6e-440...|e62c7d89-b1d5-45f...|             21.92|2019-09-06 00:00:00|    debit card|   home & garden|     1.0|        38.0|        Jamesview|     mobile|  207.63.48.149|2994 Patricia Loc...|2994 Patricia Loc...|        0.0|           244.0|             2.0|\n",
      "|e939b0df-b403-49e...|f9a48260-abfc-45c...|            217.25|2022-05-05 00:00:00|   credit card|     electronics|     1.0|        54.0|     Jacobchester|     mobile|  55.234.141.38|714 King Drives S...|714 King Drives S...|        0.0|           133.0|            22.0|\n",
      "|25aaaf63-f8c4-45d...|faec099b-02ac-44c...|            327.76|2024-07-30 00:00:00|        PayPal| health & beauty|     2.0|        26.0|    Williamshaven|     mobile| 116.130.75.103|5096 Howard Ridge...|5096 Howard Ridge...|        0.0|           363.0|             6.0|\n",
      "|609e2fcf-6256-4d1...|2e747b1e-5bba-47d...|            346.35|2021-03-22 00:00:00|   credit card|    toys & games|     4.0|        31.0|Port Williamville|     tablet|139.222.116.135|6392 Elizabeth Ho...|01229 Misty Fort ...|        0.0|             4.0|             0.0|\n",
      "|f657d55c-b40f-4dc...|10c7d4c7-49a3-487...|             17.18|2022-12-29 00:00:00| bank transfer| health & beauty|     5.0|        55.0|     Samanthaside|     mobile|   50.225.174.3|914 Johnston Ligh...|914 Johnston Ligh...|        0.0|            74.0|            16.0|\n",
      "|1b2733a5-c6ab-44d...|cea1bb57-2b3d-45e...|             175.0|2022-04-10 00:00:00|        PayPal|    toys & games|     3.0|        28.0|        New Kevin|     mobile|  142.69.105.19|360 Washington Me...|360 Washington Me...|        0.0|            74.0|            17.0|\n",
      "|89b08aa4-525f-487...|c46f2f8b-b496-4c2...|            755.63|2024-08-19 00:00:00|   credit card|   home & garden|     5.0|        48.0|  Kristinaborough|     mobile|165.197.111.176|03411 Kathleen Co...|03411 Kathleen Co...|        0.0|           232.0|             7.0|\n",
      "|919e00a4-78a6-496...|d5af5fa2-349f-43c...|             38.65|2019-09-27 00:00:00|        PayPal|    toys & games|     3.0|        30.0|     Charlesshire|    desktop|  81.209.166.19|12947 Goodman Fie...|12947 Goodman Fie...|        0.0|           346.0|            13.0|\n",
      "|20cf5056-57e1-49d...|dabe9bcc-48c4-454...|              26.1|2024-03-18 00:00:00|   credit card|        clothing|     1.0|        46.0|         Mezaberg|     tablet|   201.71.88.40|634 Johnson Shore...|634 Johnson Shore...|        0.0|            32.0|             1.0|\n",
      "|bf63d7cb-e309-4bf...|a7c00c5a-18b2-4c0...|            193.95|2020-08-22 00:00:00| bank transfer| health & beauty|     5.0|        32.0|      Port Ronald|     tablet|   132.1.222.61|7905 Ashley Harbo...|7905 Ashley Harbo...|        0.0|           278.0|            13.0|\n",
      "|ae2e2709-9550-4bd...|b8dd5246-b9d8-484...|             65.78|2023-01-26 00:00:00|    debit card|     electronics|     4.0|        27.0|      Lake Darren|     tablet| 179.100.85.214|5115 Lin Row\\nChr...|5115 Lin Row\\nChr...|        0.0|           135.0|             5.0|\n",
      "|d1f65159-fb7d-498...|2428424f-49cf-43f...|             106.9|2020-11-03 00:00:00| bank transfer|    toys & games|     3.0|        29.0|    Martinezshire|     mobile| 112.52.224.111|USNV Olson\\nFPO A...|USNV Olson\\nFPO A...|        0.0|           311.0|             1.0|\n",
      "|069f310a-ed61-42b...|e464fa93-62ca-4f8...|             875.5|2023-06-24 00:00:00|   credit card|    toys & games|     3.0|        44.0|     Michealshire|     mobile|  35.124.95.162|PSC 2231, Box 159...|875 Jacob Walks S...|        1.0|             1.0|             1.0|\n",
      "|b1f6643c-0f7c-4ac...|e7779780-94e2-49c...|            380.25|2019-03-08 00:00:00|    debit card|        clothing|     2.0|        39.0|     West Brandon|    desktop|  140.6.232.255|41936 Allison Cur...|41936 Allison Cur...|        0.0|           216.0|             8.0|\n",
      "|4e2ec27b-36e5-4d9...|22601ed4-c7f0-4d3...|            217.21|2019-03-12 00:00:00| bank transfer| health & beauty|     5.0|        40.0|    East Jennifer|     mobile|   79.114.22.83|7781 Philip Trace...|7781 Philip Trace...|        1.0|            10.0|            15.0|\n",
      "|7f0985bc-08d8-496...|a3c070a2-42a7-4e6...|             43.72|2022-02-27 00:00:00|    debit card| health & beauty|     3.0|        49.0|East Heatherville|     tablet|  111.230.46.86|982 Anna Expressw...|982 Anna Expressw...|        0.0|           153.0|            11.0|\n",
      "+--------------------+--------------------+------------------+-------------------+--------------+----------------+--------+------------+-----------------+-----------+---------------+--------------------+--------------------+-----------+----------------+----------------+\n",
      "only showing top 20 rows\n",
      "\n"
     ]
    },
    {
     "name": "stderr",
     "output_type": "stream",
     "text": [
      "                                                                                \r"
     ]
    }
   ],
   "execution_count": 36
  },
  {
   "cell_type": "markdown",
   "metadata": {
    "id": "MjxI2Xd6cRu1"
   },
   "source": [
    "### 3. Transformaciones con pyspark [6 puntos]\n",
    "(1 punto por pregunta)"
   ]
  },
  {
   "cell_type": "markdown",
   "metadata": {
    "id": "bPfhWPZeHXUH"
   },
   "source": [
    "<center>\n",
    "<img src=\"https://live.staticflickr.com/13/91801406_0e71d7f019_b.jpg\" width=350 />\n",
    "\n"
   ]
  },
  {
   "cell_type": "markdown",
   "metadata": {
    "id": "lbIDKn44cWhI"
   },
   "source": [
    "**Nota: NO SE PERMITE EL USO DE PANDAS EN ESTA SECCIÓN**\n",
    "\n",
    "Para continuar con el análisis, los especistas de Bodoque les gustaría tener nuevas variables disponibles. Tras las notas de la reunión usted llega a la conclusión de que tiene que realizar las siguientes tareas (con el dataset preprocesado de la seccion anterior):\n",
    "\n",
    "\n",
    "1.   Agregar una columna llamada \"Transaction bp\" con el **monto total** de la transacción en bodoque pesos. Se considera que $x$ dólares equivalen a $log(48+|x^{36}|)$ bodoque pesos.\n",
    "2.   Crear una columna llamada \"Transaction Month\" con el mes en que se realiza una transacción.\n",
    "3.   Crear la variable *Type of purchase* según la catidad de unidades vendidas de acuerdo a las siguientes categorías.\n",
    "  * Compra minorista: 4 productos o menos.\n",
    "  * Compra mayorista: 5 produtos o más.\n",
    "4. Imprima los registros de compras hechas por alienígenas en el comecio mayorista.  Utilice `.filter()`.\n",
    "5. Cuente la cantidad de compras realizadas por humanos y la cantidad de compras realizadas por alienígenas. Utilice `.groupby()`.\n",
    "6. Muestre una tabla con la recaudación promedio por transacción para cada método de pago, tanto para humanos como alienígenas. Utilice `pivot()`."
   ]
  },
  {
   "cell_type": "code",
   "metadata": {
    "id": "cbtFJi3mHnkK",
    "ExecuteTime": {
     "end_time": "2024-09-06T22:36:14.732822Z",
     "start_time": "2024-09-06T22:36:13.435603Z"
    }
   },
   "source": [
    "from pyspark.sql.functions import log, abs, pow, month, when, avg, row_number, max\n",
    "\n",
    "# 1. Agregar la columna \"Transaction bp\"\n",
    "df = df.withColumn(\"Transaction bp\", log(48 + abs(pow(col(\"Transaction Amount\"), 36))))\n",
    "# 2. Crear la columna \"Transaction Month\"\n",
    "df = df.withColumn(\"Transaction Month\", month(col(\"Transaction Date\")))\n",
    "# 3. Crear la columna \"Type of purchase\"\n",
    "df = df.withColumn(\n",
    "    \"Type of purchase\", \n",
    "    when(col(\"Quantity\") <= 4, \"Compra minorista\").otherwise(\"Compra mayorista\")\n",
    ")\n",
    "df.show()"
   ],
   "outputs": [
    {
     "name": "stderr",
     "output_type": "stream",
     "text": [
      "[Stage 109:=================================================>       (7 + 1) / 8]\r"
     ]
    },
    {
     "name": "stdout",
     "output_type": "stream",
     "text": [
      "+--------------------+--------------------+------------------+-------------------+--------------+----------------+--------+------------+-----------------+-----------+---------------+--------------------+--------------------+-----------+----------------+----------------+------------------+-----------------+----------------+\n",
      "|      Transaction ID|         Customer ID|Transaction Amount|   Transaction Date|Payment Method|Product Category|Quantity|Customer Age|Customer Location|Device Used|     IP Address|    Shipping Address|     Billing Address|Is An Alien|Account Age Days|Transaction Hour|    Transaction bp|Transaction Month|Type of purchase|\n",
      "+--------------------+--------------------+------------------+-------------------+--------------+----------------+--------+------------+-----------------+-----------+---------------+--------------------+--------------------+-----------+----------------+----------------+------------------+-----------------+----------------+\n",
      "|48738ee5-2a9f-41a...|35940e8d-0d3a-49b...|            312.37|2021-03-17 00:00:00|    debit card|   home & garden|     2.0|        45.0|  Port Karenburgh|     tablet|  52.108.253.19|23601 Melissa Can...|23601 Melissa Can...|        0.0|            44.0|             4.0|206.79078177448025|                3|Compra minorista|\n",
      "|b8139ed1-4849-453...|f50c91d9-a44d-48a...|             15.32|2020-10-22 00:00:00| bank transfer|   home & garden|     1.0|        46.0|     Rebeccaville|     tablet|   99.70.136.94|887 George Statio...|887 George Statio...|        0.0|            75.0|             7.0| 98.24972991524803|               10|Compra minorista|\n",
      "|03fa7e0e-f007-404...|053682d9-9cf2-4be...|             30.87|2019-07-16 00:00:00|        PayPal|        clothing|     2.0|        43.0|      North Jenny|     mobile|   49.99.10.115|85027 Michelle Fo...|85027 Michelle Fo...|        0.0|           298.0|             9.0|123.47225418650645|                7|Compra minorista|\n",
      "|09608426-5628-44c...|93923722-7547-4b9...|            221.47|2021-11-25 00:00:00|    debit card|   home & garden|     3.0|        29.0|    South Johnton|     mobile|  4.165.118.181|2620 Katrina Tunn...|2620 Katrina Tunn...|        1.0|           268.0|            22.0|194.41033704474313|               11|Compra minorista|\n",
      "|d2698270-4e6e-440...|e62c7d89-b1d5-45f...|             21.92|2019-09-06 00:00:00|    debit card|   home & garden|     1.0|        38.0|        Jamesview|     mobile|  207.63.48.149|2994 Patricia Loc...|2994 Patricia Loc...|        0.0|           244.0|             2.0|111.14638063487334|                9|Compra minorista|\n",
      "|e939b0df-b403-49e...|f9a48260-abfc-45c...|            217.25|2022-05-05 00:00:00|   credit card|     electronics|     1.0|        54.0|     Jacobchester|     mobile|  55.234.141.38|714 King Drives S...|714 King Drives S...|        0.0|           133.0|            22.0|193.71775550923806|                5|Compra minorista|\n",
      "|25aaaf63-f8c4-45d...|faec099b-02ac-44c...|            327.76|2024-07-30 00:00:00|        PayPal| health & beauty|     2.0|        26.0|    Williamshaven|     mobile| 116.130.75.103|5096 Howard Ridge...|5096 Howard Ridge...|        0.0|           363.0|             6.0|208.52213879659016|                7|Compra minorista|\n",
      "|609e2fcf-6256-4d1...|2e747b1e-5bba-47d...|            346.35|2021-03-22 00:00:00|   credit card|    toys & games|     4.0|        31.0|Port Williamville|     tablet|139.222.116.135|6392 Elizabeth Ho...|01229 Misty Fort ...|        0.0|             4.0|             0.0| 210.5081936808701|                3|Compra minorista|\n",
      "|f657d55c-b40f-4dc...|10c7d4c7-49a3-487...|             17.18|2022-12-29 00:00:00| bank transfer| health & beauty|     5.0|        55.0|     Samanthaside|     mobile|   50.225.174.3|914 Johnston Ligh...|914 Johnston Ligh...|        0.0|            74.0|            16.0|102.37485299601994|               12|Compra mayorista|\n",
      "|1b2733a5-c6ab-44d...|cea1bb57-2b3d-45e...|             175.0|2022-04-10 00:00:00|        PayPal|    toys & games|     3.0|        28.0|        New Kevin|     mobile|  142.69.105.19|360 Washington Me...|360 Washington Me...|        0.0|            74.0|            17.0| 185.9322950612465|                4|Compra minorista|\n",
      "|89b08aa4-525f-487...|c46f2f8b-b496-4c2...|            755.63|2024-08-19 00:00:00|   credit card|   home & garden|     5.0|        48.0|  Kristinaborough|     mobile|165.197.111.176|03411 Kathleen Co...|03411 Kathleen Co...|        0.0|           232.0|             7.0|238.59186618189742|                8|Compra mayorista|\n",
      "|919e00a4-78a6-496...|d5af5fa2-349f-43c...|             38.65|2019-09-27 00:00:00|        PayPal|    toys & games|     3.0|        30.0|     Charlesshire|    desktop|  81.209.166.19|12947 Goodman Fie...|12947 Goodman Fie...|        0.0|           346.0|            13.0|131.56368390120352|                9|Compra minorista|\n",
      "|20cf5056-57e1-49d...|dabe9bcc-48c4-454...|              26.1|2024-03-18 00:00:00|   credit card|        clothing|     1.0|        46.0|         Mezaberg|     tablet|   201.71.88.40|634 Johnson Shore...|634 Johnson Shore...|        0.0|            32.0|             1.0|117.42967131583131|                3|Compra minorista|\n",
      "|bf63d7cb-e309-4bf...|a7c00c5a-18b2-4c0...|            193.95|2020-08-22 00:00:00| bank transfer| health & beauty|     5.0|        32.0|      Port Ronald|     tablet|   132.1.222.61|7905 Ashley Harbo...|7905 Ashley Harbo...|        0.0|           278.0|            13.0|189.63361417989515|                8|Compra mayorista|\n",
      "|ae2e2709-9550-4bd...|b8dd5246-b9d8-484...|             65.78|2023-01-26 00:00:00|    debit card|     electronics|     4.0|        27.0|      Lake Darren|     tablet| 179.100.85.214|5115 Lin Row\\nChr...|5115 Lin Row\\nChr...|        0.0|           135.0|             5.0| 150.7073702673928|                1|Compra minorista|\n",
      "|d1f65159-fb7d-498...|2428424f-49cf-43f...|             106.9|2020-11-03 00:00:00| bank transfer|    toys & games|     3.0|        29.0|    Martinezshire|     mobile| 112.52.224.111|USNV Olson\\nFPO A...|USNV Olson\\nFPO A...|        0.0|           311.0|             1.0|168.18817744911598|               11|Compra minorista|\n",
      "|069f310a-ed61-42b...|e464fa93-62ca-4f8...|             875.5|2023-06-24 00:00:00|   credit card|    toys & games|     3.0|        44.0|     Michealshire|     mobile|  35.124.95.162|PSC 2231, Box 159...|875 Jacob Walks S...|        1.0|             1.0|             1.0|243.89262546213263|                6|Compra minorista|\n",
      "|b1f6643c-0f7c-4ac...|e7779780-94e2-49c...|            380.25|2019-03-08 00:00:00|    debit card|        clothing|     2.0|        39.0|     West Brandon|    desktop|  140.6.232.255|41936 Allison Cur...|41936 Allison Cur...|        0.0|           216.0|             8.0| 213.8698415210185|                3|Compra minorista|\n",
      "|4e2ec27b-36e5-4d9...|22601ed4-c7f0-4d3...|            217.21|2019-03-12 00:00:00| bank transfer| health & beauty|     5.0|        40.0|    East Jennifer|     mobile|   79.114.22.83|7781 Philip Trace...|7781 Philip Trace...|        1.0|            10.0|            15.0| 193.7111265905617|                3|Compra mayorista|\n",
      "|7f0985bc-08d8-496...|a3c070a2-42a7-4e6...|             43.72|2022-02-27 00:00:00|    debit card| health & beauty|     3.0|        49.0|East Heatherville|     tablet|  111.230.46.86|982 Anna Expressw...|982 Anna Expressw...|        0.0|           153.0|            11.0|136.00100387910015|                2|Compra minorista|\n",
      "+--------------------+--------------------+------------------+-------------------+--------------+----------------+--------+------------+-----------------+-----------+---------------+--------------------+--------------------+-----------+----------------+----------------+------------------+-----------------+----------------+\n",
      "only showing top 20 rows\n",
      "\n"
     ]
    },
    {
     "name": "stderr",
     "output_type": "stream",
     "text": [
      "                                                                                \r"
     ]
    }
   ],
   "execution_count": 83
  },
  {
   "metadata": {
    "ExecuteTime": {
     "end_time": "2024-09-06T21:57:30.592870Z",
     "start_time": "2024-09-06T21:57:29.142461Z"
    }
   },
   "cell_type": "code",
   "source": [
    "# 4. Filtrar registros de compras hechas por alienígenas en el comercio mayorista\n",
    "df_alien_mayorista = df.filter((col(\"Is An Alien\") == 1) & (col(\"Type of purchase\") == \"Compra mayorista\"))\n",
    "\n",
    "df_alien_mayorista.show()"
   ],
   "outputs": [
    {
     "name": "stderr",
     "output_type": "stream",
     "text": [
      "[Stage 23:==================================================>       (7 + 1) / 8]\r"
     ]
    },
    {
     "name": "stdout",
     "output_type": "stream",
     "text": [
      "+--------------------+--------------------+------------------+-------------------+--------------+----------------+--------+------------+------------------+-----------+---------------+--------------------+--------------------+-----------+----------------+----------------+------------------+-----------------+----------------+\n",
      "|      Transaction ID|         Customer ID|Transaction Amount|   Transaction Date|Payment Method|Product Category|Quantity|Customer Age| Customer Location|Device Used|     IP Address|    Shipping Address|     Billing Address|Is An Alien|Account Age Days|Transaction Hour|    Transaction bp|Transaction Month|Type of purchase|\n",
      "+--------------------+--------------------+------------------+-------------------+--------------+----------------+--------+------------+------------------+-----------+---------------+--------------------+--------------------+-----------+----------------+----------------+------------------+-----------------+----------------+\n",
      "|4e2ec27b-36e5-4d9...|22601ed4-c7f0-4d3...|            217.21|2019-03-12 00:00:00| bank transfer| health & beauty|     5.0|        40.0|     East Jennifer|     mobile|   79.114.22.83|7781 Philip Trace...|7781 Philip Trace...|        1.0|            10.0|            15.0| 193.7111265905617|                3|Compra mayorista|\n",
      "|8d7c45c0-c819-40b...|bdcabacc-2660-4c4...|           1451.15|2024-11-14 00:00:00| bank transfer|     electronics|     5.0|        43.0|  South Walterbury|    desktop|  55.118.62.112|6728 Victoria Sum...|6728 Victoria Sum...|        1.0|            28.0|             7.0|262.08401848281176|               11|Compra mayorista|\n",
      "|ae386cc1-1385-4d0...|f1c5719a-2083-484...|            123.21|2022-01-12 00:00:00|    debit card|   home & garden|     5.0|        30.0|      North Steven|    desktop|  27.118.182.47|371 James Radial ...|371 James Radial ...|        1.0|             5.0|             2.0|173.30004779891678|                1|Compra mayorista|\n",
      "|eb98200c-6a7b-4fb...|7cd09043-ebea-453...|            795.55|2024-06-24 00:00:00|        PayPal| health & beauty|     5.0|        19.0|  South Selenafort|    desktop|   16.74.39.188|95064 Dan Forest\\...|95064 Dan Forest\\...|        1.0|           227.0|             2.0|240.44521317673914|                6|Compra mayorista|\n",
      "|1c50f6e5-e80c-44b...|d56792e9-73db-41b...|            2653.2|2022-06-06 00:00:00|   credit card|     electronics|     5.0|        37.0|       Stephenberg|     mobile| 211.238.59.144|381 Meyers Lane A...|9594 Nicole Vista...|        1.0|           121.0|             2.0| 283.8067825554504|                6|Compra mayorista|\n",
      "|ff86935d-92ca-404...|0eb4455e-78a0-450...|             545.3|2020-10-29 00:00:00|        PayPal| health & beauty|     5.0|        28.0| Lake Brittanystad|     mobile|  70.246.226.89|656 Amber Wall Su...|656 Amber Wall Su...|        1.0|            63.0|             1.0|226.84809966955257|               10|Compra mayorista|\n",
      "|67bbb82b-4dea-4f1...|eeecfc30-7173-487...|             431.4|2019-05-21 00:00:00| bank transfer|   home & garden|     5.0|        41.0|     Rhodeschester|    desktop|  43.171.218.89|5140 Davis Spring...|5140 Davis Spring...|        1.0|           270.0|            23.0|218.41328642238201|                5|Compra mayorista|\n",
      "|199e82e5-e8f8-442...|86a2fdc3-4707-46a...|            639.85|2020-03-14 00:00:00|    debit card|        clothing|     5.0|        25.0|      West Richard|     tablet|113.100.121.116|1025 Jenna Roads ...|1025 Jenna Roads ...|        1.0|            20.0|             7.0| 232.6044158598098|                3|Compra mayorista|\n",
      "|c1b1f701-a678-4de...|b7fefc31-7046-420...|            218.08|2021-12-17 00:00:00|   credit card|        clothing|     5.0|        33.0|  West Cameronberg|     mobile| 215.57.182.129|293 Olson Course\\...|293 Olson Course\\...|        1.0|             6.0|            20.0|  193.855030846136|               12|Compra mayorista|\n",
      "|e52908b3-580e-453...|bb767c45-a06f-4dc...|           1387.65|2023-11-30 00:00:00|   credit card|        clothing|     5.0|        45.0|      Hollandshire|     tablet| 16.128.150.251|94384 Stephanie S...|94384 Stephanie S...|        1.0|           303.0|            10.0|260.47321012387573|               11|Compra mayorista|\n",
      "|8c3c175a-ec4c-4ab...|2fbf3825-af99-430...|            238.56|2023-10-10 00:00:00|   credit card|    toys & games|     5.0|        11.0|      West Bethany|     mobile|  163.181.9.184|7526 Jason Grove ...|0487 Pearson Rout...|        1.0|            28.0|            18.0|197.08635063659142|               10|Compra mayorista|\n",
      "|f6c8e649-5373-4d1...|8b20f3df-5aa9-417...| 854.3000000000001|2024-08-31 00:00:00| bank transfer|    toys & games|     5.0|        32.0|     South Ricardo|     mobile| 179.23.246.134|190 Huerta Locks ...|190 Huerta Locks ...|        1.0|           160.0|             2.0|243.01016712567264|                8|Compra mayorista|\n",
      "|0a27b0d8-cb18-40b...|e1fa0046-0260-406...|             186.7|2019-09-20 00:00:00|   credit card|     electronics|     5.0|        33.0|   Lake Dennisfort|     tablet|   221.3.131.18|Unit 7721 Box 787...|Unit 7721 Box 787...|        1.0|           243.0|             1.0|188.26210981971636|                9|Compra mayorista|\n",
      "|8daac4cf-df20-420...|c715a967-66ac-48f...|             96.76|2018-06-18 00:00:00|   credit card| health & beauty|     5.0|        13.0|       East Edward|     tablet| 128.183.45.193|PSC 0695, Box 365...|PSC 0695, Box 365...|        1.0|           261.0|             4.0|164.60041268670577|                6|Compra mayorista|\n",
      "|45b71cfb-3bbf-4d2...|0303dcda-f67b-49d...|            178.35|2023-11-25 00:00:00|   credit card|        clothing|     5.0|        39.0|      East Marilyn|     mobile| 28.172.217.141|472 Meredith Wall...|57182 Wheeler Har...|        1.0|            32.0|             0.0| 186.6149248249764|               11|Compra mayorista|\n",
      "|98ffaed3-e8bc-4e9...|a84d8b3b-2b68-422...|            658.65|2018-07-22 00:00:00|   credit card|    toys & games|     5.0|        11.0|   Lake Laurenview|    desktop|  155.130.124.1|65688 Travis Divi...|65688 Travis Divi...|        1.0|            27.0|             1.0| 233.6469222843301|                7|Compra mayorista|\n",
      "|b9223fb4-8916-49f...|a14faf72-9bc5-4c5...|           1239.35|2020-02-27 00:00:00|        PayPal| health & beauty|     5.0|        32.0|  South Robertland|     tablet| 188.166.70.143|568 Rebecca Circl...|568 Rebecca Circl...|        1.0|            80.0|             0.0|256.40432379407616|                2|Compra mayorista|\n",
      "|891cd2e3-167c-403...|b9b80d03-fcc6-45e...|            293.87|2024-03-28 00:00:00|    debit card|        clothing|     5.0|        18.0|       Johnsonland|    desktop|  89.180.174.74|463 Rodney Turnpi...|463 Rodney Turnpi...|        1.0|           110.0|             3.0|204.59294973644086|                3|Compra mayorista|\n",
      "|ece7912f-45e0-464...|7930f72a-9534-41b...|             50.95|2018-08-04 00:00:00|    debit card|     electronics|     5.0|        14.0|North Nicholasland|     tablet| 34.221.153.186|4189 Julie Inlet ...|4189 Julie Inlet ...|        1.0|            22.0|            15.0|141.51041134807443|                8|Compra mayorista|\n",
      "|24dc02b7-0ee0-470...|a7f79722-1604-4a6...|             41.43|2023-11-19 00:00:00|    debit card|        clothing|     5.0|        19.0|         Russoport|     tablet|   168.69.70.58|145 Willis Canyon...|145 Willis Canyon...|        1.0|            23.0|            10.0|134.06418921921517|               11|Compra mayorista|\n",
      "+--------------------+--------------------+------------------+-------------------+--------------+----------------+--------+------------+------------------+-----------+---------------+--------------------+--------------------+-----------+----------------+----------------+------------------+-----------------+----------------+\n",
      "only showing top 20 rows\n",
      "\n"
     ]
    },
    {
     "name": "stderr",
     "output_type": "stream",
     "text": [
      "                                                                                \r"
     ]
    }
   ],
   "execution_count": 39
  },
  {
   "metadata": {
    "ExecuteTime": {
     "end_time": "2024-09-06T21:58:56.741883Z",
     "start_time": "2024-09-06T21:58:55.252631Z"
    }
   },
   "cell_type": "code",
   "source": [
    "# 5. Contar la cantidad de compras por humanos y alienígenas\n",
    "df.groupBy(\"Is An Alien\").count().show()"
   ],
   "outputs": [
    {
     "name": "stderr",
     "output_type": "stream",
     "text": [
      "[Stage 32:==================================================>       (7 + 1) / 8]\r"
     ]
    },
    {
     "name": "stdout",
     "output_type": "stream",
     "text": [
      "+-----------+-----+\n",
      "|Is An Alien|count|\n",
      "+-----------+-----+\n",
      "|        0.0|12700|\n",
      "|        1.0|  688|\n",
      "+-----------+-----+\n",
      "\n"
     ]
    },
    {
     "name": "stderr",
     "output_type": "stream",
     "text": [
      "                                                                                \r"
     ]
    }
   ],
   "execution_count": 42
  },
  {
   "metadata": {
    "ExecuteTime": {
     "end_time": "2024-09-06T21:59:49.667676Z",
     "start_time": "2024-09-06T21:59:47.161272Z"
    }
   },
   "cell_type": "code",
   "source": [
    "# 6. Mostrar recaudación promedio por transacción para cada método de pago (humano vs alienígena)\n",
    "df.groupBy(\"Is An Alien\").pivot(\"Payment Method\").agg(avg(\"Transaction Amount\")).show()"
   ],
   "outputs": [
    {
     "name": "stderr",
     "output_type": "stream",
     "text": [
      "[Stage 57:==================================================>       (7 + 1) / 8]\r"
     ]
    },
    {
     "name": "stdout",
     "output_type": "stream",
     "text": [
      "+-----------+-----------------+------------------+-----------------+-----------------+\n",
      "|Is An Alien|           PayPal|     bank transfer|      credit card|       debit card|\n",
      "+-----------+-----------------+------------------+-----------------+-----------------+\n",
      "|        0.0|215.1259858475394|215.15149230285914|206.3112232704404|215.2164188351921|\n",
      "|        1.0|469.5177647058822| 547.6004624277458|517.7530538922157|547.1965168539326|\n",
      "+-----------+-----------------+------------------+-----------------+-----------------+\n",
      "\n"
     ]
    },
    {
     "name": "stderr",
     "output_type": "stream",
     "text": [
      "                                                                                \r"
     ]
    }
   ],
   "execution_count": 45
  },
  {
   "cell_type": "markdown",
   "metadata": {
    "id": "17Muj6u2jOLq"
   },
   "source": [
    "### 4. EDA [20 puntos]\n",
    "(1 punto por gráfico y 1 punto por su interpretación)"
   ]
  },
  {
   "cell_type": "markdown",
   "metadata": {
    "id": "7F3yo66wFQ0z"
   },
   "source": [
    "<center>\n",
    "<img src=\"https://i.pinimg.com/originals/41/7e/7b/417e7b9089bcc20c4909df8954c6e742.gif\" width=400 />\n",
    "\n"
   ]
  },
  {
   "cell_type": "markdown",
   "metadata": {
    "id": "ayN5LYRamE7-"
   },
   "source": [
    "Esta sección tiene como objetivo evaluar su habilidad para generar reportes y conclusiones a partir de los patrones identificados en los datos proporcionados por Bodoque. Específicamente, se enfoca en **caracterizar las transacciones** y **explorar las diferencias y similitudes en el comportamiento de humanos y aliens**. Utilice el dataset que ya incluye las transformaciones necesarias.\n",
    "\n",
    "Por favor, asegúrese de que **todas** las visualizaciones que realice cumplan con los siguientes criterios:\n",
    "- Deben ser relevantes y fáciles de interpretar.\n",
    "- Cada gráfico debe incluir un título claro, nombres en los ejes y leyendas adecuadas.\n",
    "- Adjunte una breve descripción interpretativa junto a cada gráfico para explicar los resultados visualizados.\n",
    "\n",
    "Para llevar a cabo esta tarea, siga los siguientes pasos utilizando la librería de visualización de su elección (matplotlib, seaborn, plotly, etc):\n",
    "\n",
    "1. **Conversión del DataFrame a formato pandas** (2 puntos): Pase el DataFrame procesado a formato pandas. Evite realizar transformaciones adicionales con pandas.\n",
    "2. **Visualización de Variables Categóricas** (2 puntos por visualización):\n",
    "   - Genere **tres gráficos de barras** que diferencien entre humanos y aliens. Analice y comente cualquier diferencia o similitud observada entre estos dos grupos.\n",
    "3. **Visualización de Variables Numéricas** (2 puntos por visualización):\n",
    "   - Elabore **tres distplots** para examinar las distribuciones de variables numéricas, diferenciando entre humanos y aliens. Comente las diferencias o similitudes notables.\n",
    "4. **Análisis de Patrones en Transacciones** (2 puntos por visualización):\n",
    "   - Cree **tres gráficos avanzados** que ayuden a identificar patrones en las transacciones. Estos gráficos deben incorporar al menos dos dimensiones y diferir de los anteriores. Algunos ejemplos podrían ser un lineplot que muestre la cantidad de transacciones mensuales por canal de venta, o un barplot que exhiba los tres productos más vendidos por canal.\n",
    "\n",
    "Estos pasos le permitirán no solo visualizar datos complejos de manera efectiva, sino también interpretar estos datos para extraer insights valiosos acerca del comportamiento de los consumidores en el contexto de Bodoque."
   ]
  },
  {
   "cell_type": "code",
   "metadata": {
    "id": "tGw5y36IxRk3",
    "ExecuteTime": {
     "end_time": "2024-09-06T22:21:17.221110Z",
     "start_time": "2024-09-06T22:21:16.052248Z"
    }
   },
   "source": [
    "# 1. Convertir a pandas dataframe\n",
    "df_pandas = df.sample(fraction=0.05, seed=26).toPandas()\n",
    "df_pandas.info()"
   ],
   "outputs": [
    {
     "name": "stderr",
     "output_type": "stream",
     "text": [
      "[Stage 82:==================================================>       (7 + 1) / 8]\r"
     ]
    },
    {
     "name": "stdout",
     "output_type": "stream",
     "text": [
      "<class 'pandas.core.frame.DataFrame'>\n",
      "RangeIndex: 662 entries, 0 to 661\n",
      "Data columns (total 19 columns):\n",
      " #   Column              Non-Null Count  Dtype         \n",
      "---  ------              --------------  -----         \n",
      " 0   Transaction ID      662 non-null    object        \n",
      " 1   Customer ID         662 non-null    object        \n",
      " 2   Transaction Amount  662 non-null    float64       \n",
      " 3   Transaction Date    662 non-null    datetime64[ns]\n",
      " 4   Payment Method      662 non-null    object        \n",
      " 5   Product Category    662 non-null    object        \n",
      " 6   Quantity            662 non-null    float64       \n",
      " 7   Customer Age        662 non-null    float64       \n",
      " 8   Customer Location   662 non-null    object        \n",
      " 9   Device Used         662 non-null    object        \n",
      " 10  IP Address          662 non-null    object        \n",
      " 11  Shipping Address    662 non-null    object        \n",
      " 12  Billing Address     662 non-null    object        \n",
      " 13  Is An Alien         662 non-null    float64       \n",
      " 14  Account Age Days    662 non-null    float64       \n",
      " 15  Transaction Hour    662 non-null    float64       \n",
      " 16  Transaction bp      662 non-null    float64       \n",
      " 17  Transaction Month   662 non-null    int32         \n",
      " 18  Type of purchase    662 non-null    object        \n",
      "dtypes: datetime64[ns](1), float64(7), int32(1), object(10)\n",
      "memory usage: 95.8+ KB\n"
     ]
    },
    {
     "name": "stderr",
     "output_type": "stream",
     "text": [
      "                                                                                \r"
     ]
    }
   ],
   "execution_count": 68
  },
  {
   "metadata": {
    "ExecuteTime": {
     "end_time": "2024-09-06T22:21:21.535888Z",
     "start_time": "2024-09-06T22:21:20.428665Z"
    }
   },
   "cell_type": "code",
   "source": [
    "import seaborn as sns\n",
    "# Crear la figura y los ejes para los gráficos\n",
    "fig, axes = plt.subplots(1, 3, figsize=(18, 6), sharey=True)\n",
    "\n",
    "# Gráfico 1: Número de transacciones por tipo de compra\n",
    "sns.countplot(data=df_pandas, x=\"Type of purchase\", hue=\"Is An Alien\", ax=axes[0])\n",
    "axes[0].set_title(\"Número de Transacciones por Tipo de Compra\")\n",
    "axes[0].set_xlabel(\"Tipo de Compra\")\n",
    "axes[0].set_ylabel(\"Número de Transacciones\")\n",
    "\n",
    "# Gráfico 2: Número de transacciones por mes\n",
    "sns.countplot(data=df_pandas, x=\"Transaction Month\", hue=\"Is An Alien\", ax=axes[1])\n",
    "axes[1].set_title(\"Número de Transacciones por Mes\")\n",
    "axes[1].set_xlabel(\"Mes de Transacción\")\n",
    "axes[1].set_ylabel(\"Número de Transacciones\")\n",
    "\n",
    "# Gráfico 3: Número de transacciones por método de pago\n",
    "sns.countplot(data=df_pandas, x=\"Payment Method\", hue=\"Is An Alien\", ax=axes[2])\n",
    "axes[2].set_title(\"Número de Transacciones por Método de Pago\")\n",
    "axes[2].set_xlabel(\"Método de Pago\")\n",
    "axes[2].set_ylabel(\"Número de Transacciones\")\n",
    "\n",
    "# Ajustar el layout y mostrar la figura\n",
    "plt.tight_layout()\n",
    "plt.savefig(\"./figuras/Grafico1\")\n",
    "plt.show()\n"
   ],
   "outputs": [
    {
     "data": {
      "text/plain": [
       "<Figure size 1800x600 with 3 Axes>"
      ],
      "image/png": "[encoded data removed]"
     },
     "metadata": {},
     "output_type": "display_data"
    }
   ],
   "execution_count": 69
  },
  {
   "metadata": {},
   "cell_type": "markdown",
   "source": "> Los Aliens son claramento muchos menos que los humanos. Sin embargo, ambos parecieran comportarse de la misma forma en cada uno de los gráficos. Luego, pareciera ser que para los humanos el mes con más transacciones es diciembre pero para los aliens es agosto (Cosas de aliens)."
  },
  {
   "metadata": {
    "ExecuteTime": {
     "end_time": "2024-09-06T22:21:30.735468Z",
     "start_time": "2024-09-06T22:21:28.918092Z"
    }
   },
   "cell_type": "code",
   "source": [
    "fig, axes = plt.subplots(1, 3, figsize=(18, 6), sharey=False)\n",
    "\n",
    "# Gráfico 1: Distribución del Monto de Transacción\n",
    "sns.histplot(data=df_pandas, x=\"Transaction Amount\", hue=\"Is An Alien\", kde=True, ax=axes[0])\n",
    "axes[0].set_title(\"Distribución del Monto de Transacción\")\n",
    "axes[0].set_xlabel(\"Monto de Transacción\")\n",
    "axes[0].set_ylabel(\"Frecuencia\")\n",
    "\n",
    "# Gráfico 2: Distribución de la Cantidad de Productos\n",
    "sns.histplot(data=df_pandas, x=\"Quantity\", hue=\"Is An Alien\", kde=False, ax=axes[1])\n",
    "axes[1].set_title(\"Distribución de la Cantidad de Productos\")\n",
    "axes[1].set_xlabel(\"Cantidad de Productos\")\n",
    "axes[1].set_ylabel(\"Frecuencia\")\n",
    "\n",
    "# Gráfico 3: Distribución de la Edad del Cliente\n",
    "sns.histplot(data=df_pandas, x=\"Customer Age\", hue=\"Is An Alien\", kde=True, ax=axes[2])\n",
    "axes[2].set_title(\"Distribución de la Edad del Cliente\")\n",
    "axes[2].set_xlabel(\"Edad del Cliente\")\n",
    "axes[2].set_ylabel(\"Frecuencia\")\n",
    "\n",
    "# Ajustar el layout\n",
    "plt.tight_layout()\n",
    "plt.savefig(\"./figuras/Grafico2\")\n",
    "\n",
    "# Mostrar la figura\n",
    "plt.show()\n"
   ],
   "outputs": [
    {
     "data": {
      "text/plain": [
       "<Figure size 1800x600 with 3 Axes>"
      ],
      "image/png": "[encoded data removed]"
     },
     "metadata": {},
     "output_type": "display_data"
    }
   ],
   "execution_count": 70
  },
  {
   "metadata": {},
   "cell_type": "markdown",
   "source": "> El comportamiento en las variables númericas tambien es practicamente identico."
  },
  {
   "cell_type": "markdown",
   "metadata": {
    "id": "97zN2_g4vgY6"
   },
   "source": [
    "### 5. Particiones y consultas en SQL [2 puntos]"
   ]
  },
  {
   "cell_type": "markdown",
   "metadata": {
    "id": "viNvNuE_odgc"
   },
   "source": [
    "<center>\n",
    "<img src=\"https://gitlab.com/imezadelajara/datos_clase_7_mds7202/-/raw/main/misc_images/1696330143457.gif\" width=400 />"
   ]
  },
  {
   "cell_type": "markdown",
   "metadata": {
    "id": "SCdHwyGBwVx8"
   },
   "source": [
    "El equipo de Bodoque e-shop ha solicitado que los datos estén disponibles en una tabla SQL consultable. Además, están interesados en aprovechar las funciones de ventana en SQL para análisis avanzados. Las funciones de ventana permiten realizar cálculos sobre un conjunto de filas que están relacionadas con la fila actual. Por ejemplo, UNBOUNDED PRECEDING se usa para indicar que el rango de la función de ventana comienza desde la primera fila de la partición o del conjunto de resultados, lo cual es útil para calcular sumas acumulativas hasta la fila actual. Las variaciones comunes de este uso incluyen:\n",
    "\n",
    "- `UNBOUNDED PRECEDING` to `CURRENT ROW`: Calcula desde el inicio de la partición hasta la fila actual.\n",
    "- `UNBOUNDED PRECEDING` to `UNBOUNDED FOLLOWING`: Cubre todas las filas dentro de la partición.\n",
    "- `VALUE PRECEDING` to `VALUE FOLLOWING`: Establece un rango específico basado en valores antes y después de la fila actual."
   ]
  },
  {
   "cell_type": "markdown",
   "metadata": {
    "id": "VntjejKLleIa"
   },
   "source": [
    "<center>\n",
    "<img src=\"https://learnsql.com/blog/sql-window-functions-rows-clause/1.png\" width=500 />"
   ]
  },
  {
   "cell_type": "markdown",
   "metadata": {
    "id": "D8XJ7NrPllKG"
   },
   "source": [
    "Ejemplo de uso en SQL:\n",
    "\n",
    "```sql\n",
    "STAT(COL1_NAME) OVER (PARTITION BY COL2_NAME ORDER BY COL3_NAME ROWS BETWEEN X PRECEDING AND CURRENT ROW)\n",
    "```\n",
    "\n",
    "\n",
    "Responda y realice los siguientes puntos:\n",
    "\n",
    "1. **Creación de Tabla con PySpark** (2 puntos):\n",
    "   - Desarrolle un script utilizando PySpark para crear una tabla a partir de un DataFrame previamente transformado. Seleccione y utilice una variable específica para la partición de la tabla. Justifique su elección de esta variable considerando factores como el tamaño del DataFrame, la distribución de los datos y el impacto potencial en el rendimiento de futuras consultas.\n",
    "\n",
    "2. **Consulta SQL para Principales Clientes** (Bonus: 2 punto):\n",
    "   - Ejecute una consulta SQL para identificar los 10 clientes que más productos han comprado. La consulta debe retornar el ID del cliente junto con el total de productos comprados, ordenados en forma descendente.\n",
    "\n",
    "3. **Implementación de Función de Ventana en SQL y Equivalente en Spark** (Bonus: 2 punto):\n",
    "   - Implemente una función de ventana en SQL para calcular la compra más alta realizada por cada usuario en los últimos tres meses. Además, describa cómo se podría realizar una función equivalente en Spark, considerando las capacidades específicas de PySpark para manejar este tipo de consultas.\n",
    "\n"
   ]
  },
  {
   "cell_type": "code",
   "metadata": {
    "id": "Xe_JQ3npiM6_",
    "ExecuteTime": {
     "end_time": "2024-09-06T22:27:00.842713Z",
     "start_time": "2024-09-06T22:26:57.642980Z"
    }
   },
   "source": [
    "df.write \\\n",
    "    .format(\"parquet\") \\\n",
    "    .mode(\"overwrite\") \\\n",
    "    .partitionBy(\"Transaction Month\") \\\n",
    "    .saveAsTable(\"tabla_transaccional\")"
   ],
   "outputs": [
    {
     "name": "stderr",
     "output_type": "stream",
     "text": [
      "                                                                                \r"
     ]
    }
   ],
   "execution_count": 71
  },
  {
   "metadata": {
    "ExecuteTime": {
     "end_time": "2024-09-06T22:32:35.506108Z",
     "start_time": "2024-09-06T22:32:34.970866Z"
    }
   },
   "cell_type": "code",
   "source": [
    "consulta = \"\"\"\n",
    "SELeCT count(distinct `Customer ID`)\n",
    "FROM `tabla_transaccional`\n",
    "\"\"\"\n",
    "spark.sql(consulta).show()"
   ],
   "outputs": [
    {
     "name": "stdout",
     "output_type": "stream",
     "text": [
      "+---------------------------+\n",
      "|count(DISTINCT Customer ID)|\n",
      "+---------------------------+\n",
      "|                      13388|\n",
      "+---------------------------+\n",
      "\n"
     ]
    }
   ],
   "execution_count": 80
  },
  {
   "metadata": {
    "ExecuteTime": {
     "end_time": "2024-09-06T22:33:20.524884Z",
     "start_time": "2024-09-06T22:33:20.424908Z"
    }
   },
   "cell_type": "code",
   "source": [
    "consulta = \"\"\"\n",
    "SELECT \n",
    "    `Customer ID`, \n",
    "    `Quantity`\n",
    "FROM \n",
    "    tabla_transaccional\n",
    "ORDER BY \n",
    "    `Quantity` DESC\n",
    "LIMIT 10;\n",
    "\n",
    "\"\"\"\n",
    "spark.sql(consulta).show()"
   ],
   "outputs": [
    {
     "name": "stdout",
     "output_type": "stream",
     "text": [
      "+--------------------+--------+\n",
      "|         Customer ID|Quantity|\n",
      "+--------------------+--------+\n",
      "|f7b61852-4d42-441...|     5.0|\n",
      "|71f2613c-e519-4f2...|     5.0|\n",
      "|f36afb2c-340a-4ab...|     5.0|\n",
      "|9b16f99a-3bb5-4f4...|     5.0|\n",
      "|6542744a-369a-40d...|     5.0|\n",
      "|0834a201-d542-4b2...|     5.0|\n",
      "|848e3d5a-08a4-482...|     5.0|\n",
      "|0739c653-3a93-4d5...|     5.0|\n",
      "|f245cdf2-816f-4e0...|     5.0|\n",
      "|712b9cc3-97ba-4f4...|     5.0|\n",
      "+--------------------+--------+\n",
      "\n"
     ]
    }
   ],
   "execution_count": 81
  },
  {
   "metadata": {
    "ExecuteTime": {
     "end_time": "2024-09-06T22:38:09.286106Z",
     "start_time": "2024-09-06T22:38:08.950660Z"
    }
   },
   "cell_type": "code",
   "source": [
    "consulta = \"\"\"\n",
    "WITH RankedPurchases AS (\n",
    "    SELECT\n",
    "        `Customer ID`,\n",
    "        `Transaction Amount`,\n",
    "        `Transaction Date`,\n",
    "        ROW_NUMBER() OVER (PARTITION BY `Customer ID` ORDER BY `Transaction Date` DESC, `Transaction Amount` DESC) AS rank\n",
    "    FROM \n",
    "        tabla_transaccional\n",
    "    WHERE \n",
    "        `Transaction Date` >= DATEADD(month, -3, CURRENT_DATE)\n",
    ")\n",
    "SELECT \n",
    "    `Customer ID`,\n",
    "    MAX(`Transaction Amount`) AS highest_purchase\n",
    "FROM \n",
    "    RankedPurchases\n",
    "WHERE \n",
    "    rank = 1\n",
    "GROUP BY \n",
    "    `Customer ID`\n",
    "ORDER BY highest_purchase desc ;\n",
    "\n",
    "\"\"\"\n",
    "\n",
    "spark.sql(consulta).show()"
   ],
   "outputs": [
    {
     "name": "stdout",
     "output_type": "stream",
     "text": [
      "+--------------------+------------------+\n",
      "|         Customer ID|  highest_purchase|\n",
      "+--------------------+------------------+\n",
      "|c8432541-5eba-4dc...|3327.2000000000003|\n",
      "|c97435c5-5cd1-499...|           3006.95|\n",
      "|47cd15f5-e5cf-41c...|           2073.48|\n",
      "|dd40a7d5-9553-400...|            1495.3|\n",
      "|bdcabacc-2660-4c4...|           1451.15|\n",
      "|88415f74-cd66-499...|           1363.14|\n",
      "|9b5226fd-ef4b-4db...|           1300.35|\n",
      "|f9fd5d53-7152-41c...|           1272.78|\n",
      "|62910de2-5e3b-4e0...|           1221.84|\n",
      "|69aef4a5-3e8b-414...|           1140.91|\n",
      "|1db5079f-a7b2-4d1...|           1118.58|\n",
      "|7948c2e5-9b87-4ee...|           1094.75|\n",
      "|6453c98a-f96b-4d4...|           1037.17|\n",
      "|283685e4-2f45-4fe...|           1012.45|\n",
      "|9f709b9c-61b2-4a0...|            958.82|\n",
      "|14e7d59d-a0a6-4d2...|            908.88|\n",
      "|e45b0cb4-afa0-450...|            889.01|\n",
      "|2c0d52af-aca9-473...|            884.09|\n",
      "|08a92e83-101e-458...|            880.51|\n",
      "|f8529dce-d6e9-454...|            867.56|\n",
      "+--------------------+------------------+\n",
      "only showing top 20 rows\n",
      "\n"
     ]
    }
   ],
   "execution_count": 87
  },
  {
   "metadata": {
    "ExecuteTime": {
     "end_time": "2024-09-06T22:39:33.023717Z",
     "start_time": "2024-09-06T22:39:31.652699Z"
    }
   },
   "cell_type": "code",
   "source": [
    "from pyspark.sql import Window \n",
    "from pyspark.sql import functions as F\n",
    "\n",
    "# Crear la ventana para particionar por cliente y ordenar por fecha y monto de transacción\n",
    "window_spec = Window.partitionBy(\"Customer ID\").orderBy(col(\"Transaction Date\").desc(), col(\"Transaction Amount\").desc())\n",
    "\n",
    "# Agregar la columna de rank\n",
    "ranked_df = df.withColumn(\"rank\", row_number().over(window_spec))\n",
    "\n",
    "# Filtrar por rank = 1 y calcular la compra más alta\n",
    "highest_purchase_df = ranked_df.filter(col(\"rank\") == 1) \\\n",
    "    .groupBy(\"Customer ID\") \\\n",
    "    .agg(max(\"Transaction Amount\").alias(\"highest_purchase\"))\\\n",
    "    .sort(F.desc(\"highest_purchase\"))\n",
    "\n",
    "highest_purchase_df.show()"
   ],
   "outputs": [
    {
     "name": "stderr",
     "output_type": "stream",
     "text": [
      "[Stage 124:=================================================>       (7 + 1) / 8]\r"
     ]
    },
    {
     "name": "stdout",
     "output_type": "stream",
     "text": [
      "+--------------------+------------------+\n",
      "|         Customer ID|  highest_purchase|\n",
      "+--------------------+------------------+\n",
      "|5d6dfdc2-9f91-4ba...|           4638.55|\n",
      "|6b4add5d-348d-44e...|           3674.75|\n",
      "|607c4062-4909-4be...|            3653.2|\n",
      "|c9496b42-e939-46f...|3589.2000000000003|\n",
      "|76a6d9aa-9c66-49e...|           3573.15|\n",
      "|58a55800-011c-43c...|3492.0499999999997|\n",
      "|c8432541-5eba-4dc...|3327.2000000000003|\n",
      "|cfc7d030-6d28-49a...|3264.0499999999997|\n",
      "|1758f4b6-dc9f-4bc...|           3203.05|\n",
      "|3cbfc6d5-7e57-4ad...|           3160.65|\n",
      "|07b408ae-d9e2-4b1...|3154.8500000000004|\n",
      "|4232812d-8afa-4b3...|           3048.35|\n",
      "|c97435c5-5cd1-499...|           3006.95|\n",
      "|932ab159-9d49-417...|2834.2000000000003|\n",
      "|7a9a2c02-b1b8-4d5...|            2787.4|\n",
      "|884b556f-aa80-4c6...|2757.7999999999997|\n",
      "|97139cbb-8448-401...|           2671.75|\n",
      "|d56792e9-73db-41b...|            2653.2|\n",
      "|c775f38a-94ca-405...|            2613.7|\n",
      "|aca62d0d-3f92-4ef...|2609.5499999999997|\n",
      "+--------------------+------------------+\n",
      "only showing top 20 rows\n",
      "\n"
     ]
    },
    {
     "name": "stderr",
     "output_type": "stream",
     "text": [
      "                                                                                \r"
     ]
    }
   ],
   "execution_count": 90
  },
  {
   "cell_type": "markdown",
   "metadata": {
    "id": "AKQs-augfZBv"
   },
   "source": [
    "### 6. UDF [12 puntos]"
   ]
  },
  {
   "cell_type": "markdown",
   "metadata": {
    "id": "ovDBGi-uhhdD"
   },
   "source": [
    "<center>\n",
    "<img src=\"https://64.media.tumblr.com/ba8c705edd2bed0a28d9458811155d69/tumblr_pap19zg4ae1w3zg6go1_400.gifv\" width=400 />"
   ]
  },
  {
   "cell_type": "markdown",
   "metadata": {
    "id": "TJUUnpi8qKHD"
   },
   "source": [
    "\n",
    "\n",
    "Un experto en predicciones y programación le ha proporcionado un objeto serializado (`pickle`) diseñado para calcular las probabilidades de que un cliente cometa o no un fraude. Este experto sugiere que, para maximizar las capacidades de procesamiento distribuido de Spark, debería implementar `Scalar User Defined Functions` (udf). Esto le permitirá aplicar el objeto serializado en un entorno distribuido a lo largo de toda la población de datos. Un aspecto clave de la función desarrollada por el experto es que se enfoca exclusivamente en las siguientes columnas para realizar las predicciones: `['Transaction Amount', 'Quantity', 'Customer Age', 'Transaction Hour']`.\n",
    "\n",
    "Aparte, el experto le proporciona las siguientes instrucciones para usar las UDF en Spark:\n",
    "\n",
    "```python\n",
    "from pyspark.sql.functions import udf\n",
    "from pyspark.sql.types import FloatType\n",
    "\n",
    "def custom_function(col1, col2, col3, col4):\n",
    "    pass\n",
    "\n",
    "udf_function = udf(custom_function, FloatType())\n",
    "```\n",
    "\n",
    "Basándose en la estructura proporcionada, debe desarrollar una función que ejecute un código específico. Tenga en cuenta que esta función solo puede recibir columnas de Spark y debe retornar el valor deseado. Posteriormente, deberá utilizar esta función UDF indicando la función personalizada y el formato de salida.\n",
    "\n",
    "Siga los siguientes pasos para implementar la solución y responda las preguntas:\n",
    "\n",
    "1. **Cargar el objeto serializado**: Revise el tipo de objeto y deduzca su función. (1 punto)\n",
    "2. **Explorar el objeto**: Utilice las funciones `dir` y `help` para identificar qué método del objeto predice la probabilidad. (1 punto)\n",
    "3. **Crear una función personalizada**: Elabore una función que prediga la probabilidad de fraude utilizando el último valor de la lista generada por el objeto serializado. Puede modificar el nombre de la función para reflejar su propósito. (6 puntos)\n",
    "4. **Definir la función UDF**: Establezca la función UDF con la función personalizada que ha creado. (2 punto)\n",
    "5. **Generar una nueva columna**: Añada una nueva columna `prediction` a su DataFrame en Spark utilizando la función UDF y muestre un ejemplo de cómo se aplica. ¿Qué beneficios podría generar utilizar udf? (2 puntos)"
   ]
  },
  {
   "cell_type": "code",
   "metadata": {
    "id": "bPJVs2OBezN_",
    "ExecuteTime": {
     "end_time": "2024-09-06T22:47:35.658809Z",
     "start_time": "2024-09-06T22:47:35.046504Z"
    }
   },
   "source": [
    "import pickle\n",
    "import urllib.request\n",
    "\n",
    "# Descargar el archivo pickle\n",
    "url = \"https://gitlab.com/imezadelajara/datos_clase_7_mds7202/-/raw/main/object.pkl\"\n",
    "local_file = \"object.pkl\"\n",
    "\n",
    "urllib.request.urlretrieve(url, local_file)\n",
    "\n",
    "# Cargar el objeto serializado\n",
    "with open(local_file, \"rb\") as file:\n",
    "    model = pickle.load(file)\n",
    "\n",
    "# Verificar el tipo de objeto\n",
    "print(type(model))\n"
   ],
   "outputs": [
    {
     "name": "stdout",
     "output_type": "stream",
     "text": [
      "<class 'sklearn.linear_model._logistic.LogisticRegression'>\n"
     ]
    }
   ],
   "execution_count": 96
  },
  {
   "metadata": {
    "ExecuteTime": {
     "end_time": "2024-09-06T22:47:32.961236Z",
     "start_time": "2024-09-06T22:47:32.956859Z"
    }
   },
   "cell_type": "code",
   "source": [
    "def predict_fraud(amount, quantity, age, hour):\n",
    "    features = [[amount, quantity, age, hour]]\n",
    "    prediction_probabilities = model.predict_proba(features)\n",
    "    return float(prediction_probabilities[0][1])  # Índice 1 para la probabilidad de fraude\n"
   ],
   "outputs": [],
   "execution_count": 95
  },
  {
   "metadata": {
    "ExecuteTime": {
     "end_time": "2024-09-06T22:47:40.417789Z",
     "start_time": "2024-09-06T22:47:40.414170Z"
    }
   },
   "cell_type": "code",
   "source": [
    "from pyspark.sql.functions import udf\n",
    "\n",
    "# Definir la función UDF\n",
    "udf_predict_fraud = udf(predict_fraud, FloatType())"
   ],
   "outputs": [],
   "execution_count": 97
  },
  {
   "metadata": {
    "ExecuteTime": {
     "end_time": "2024-09-06T22:49:24.833818Z",
     "start_time": "2024-09-06T22:49:23.144651Z"
    }
   },
   "cell_type": "code",
   "source": [
    "# Añadir la columna de predicción\n",
    "df = df.withColumn(\"prediction\", udf_predict_fraud(\n",
    "    col(\"Transaction Amount\"),\n",
    "    col(\"Quantity\"),\n",
    "    col(\"Customer Age\"),\n",
    "    col(\"Transaction Hour\")\n",
    "))\n",
    "\n",
    "df.select(\"Transaction Amount\", \"Quantity\", \"Customer Age\", \"Transaction Hour\", \"prediction\").show()\n"
   ],
   "outputs": [
    {
     "name": "stderr",
     "output_type": "stream",
     "text": [
      "[Stage 139:=================================================>       (7 + 1) / 8]\r"
     ]
    },
    {
     "name": "stdout",
     "output_type": "stream",
     "text": [
      "+------------------+--------+------------+----------------+-----------+\n",
      "|Transaction Amount|Quantity|Customer Age|Transaction Hour| prediction|\n",
      "+------------------+--------+------------+----------------+-----------+\n",
      "|            312.37|     2.0|        45.0|             4.0| 0.07637426|\n",
      "|             15.32|     1.0|        46.0|             7.0| 0.03141727|\n",
      "|             30.87|     2.0|        43.0|             9.0| 0.02788114|\n",
      "|            221.47|     3.0|        29.0|            22.0|0.016259737|\n",
      "|             21.92|     1.0|        38.0|             2.0|  0.0464458|\n",
      "|            217.25|     1.0|        54.0|            22.0|  0.0161297|\n",
      "|            327.76|     2.0|        26.0|             6.0| 0.06901875|\n",
      "|            346.35|     4.0|        31.0|             0.0| 0.10823988|\n",
      "|             17.18|     5.0|        55.0|            16.0|0.015488073|\n",
      "|             175.0|     3.0|        28.0|            17.0|0.021327687|\n",
      "|            755.63|     5.0|        48.0|             7.0| 0.15612563|\n",
      "|             38.65|     3.0|        30.0|            13.0|0.020973112|\n",
      "|              26.1|     1.0|        46.0|             1.0|0.050295617|\n",
      "|            193.95|     5.0|        32.0|            13.0|0.029693661|\n",
      "|             65.78|     4.0|        27.0|             5.0|  0.0405214|\n",
      "|             106.9|     3.0|        29.0|             1.0| 0.06004231|\n",
      "|             875.5|     3.0|        44.0|             1.0| 0.28476092|\n",
      "|            380.25|     2.0|        39.0|             8.0|0.066776015|\n",
      "|            217.21|     5.0|        40.0|            15.0|0.026866423|\n",
      "|             43.72|     3.0|        49.0|            11.0| 0.02447741|\n",
      "+------------------+--------+------------+----------------+-----------+\n",
      "only showing top 20 rows\n",
      "\n"
     ]
    },
    {
     "name": "stderr",
     "output_type": "stream",
     "text": [
      "/home/crisu/miniconda3/envs/MDS-BBDD/lib/python3.8/site-packages/sklearn/base.py:465: UserWarning: X does not have valid feature names, but LogisticRegression was fitted with feature names\n",
      "  warnings.warn(\n",
      "/home/crisu/miniconda3/envs/MDS-BBDD/lib/python3.8/site-packages/sklearn/base.py:465: UserWarning: X does not have valid feature names, but LogisticRegression was fitted with feature names\n",
      "  warnings.warn(\n",
      "/home/crisu/miniconda3/envs/MDS-BBDD/lib/python3.8/site-packages/sklearn/base.py:465: UserWarning: X does not have valid feature names, but LogisticRegression was fitted with feature names\n",
      "  warnings.warn(\n",
      "/home/crisu/miniconda3/envs/MDS-BBDD/lib/python3.8/site-packages/sklearn/base.py:465: UserWarning: X does not have valid feature names, but LogisticRegression was fitted with feature names\n",
      "  warnings.warn(\n",
      "/home/crisu/miniconda3/envs/MDS-BBDD/lib/python3.8/site-packages/sklearn/base.py:465: UserWarning: X does not have valid feature names, but LogisticRegression was fitted with feature names\n",
      "  warnings.warn(\n",
      "/home/crisu/miniconda3/envs/MDS-BBDD/lib/python3.8/site-packages/sklearn/base.py:465: UserWarning: X does not have valid feature names, but LogisticRegression was fitted with feature names\n",
      "  warnings.warn(\n",
      "/home/crisu/miniconda3/envs/MDS-BBDD/lib/python3.8/site-packages/sklearn/base.py:465: UserWarning: X does not have valid feature names, but LogisticRegression was fitted with feature names\n",
      "  warnings.warn(\n",
      "/home/crisu/miniconda3/envs/MDS-BBDD/lib/python3.8/site-packages/sklearn/base.py:465: UserWarning: X does not have valid feature names, but LogisticRegression was fitted with feature names\n",
      "  warnings.warn(\n",
      "/home/crisu/miniconda3/envs/MDS-BBDD/lib/python3.8/site-packages/sklearn/base.py:465: UserWarning: X does not have valid feature names, but LogisticRegression was fitted with feature names\n",
      "  warnings.warn(\n",
      "/home/crisu/miniconda3/envs/MDS-BBDD/lib/python3.8/site-packages/sklearn/base.py:465: UserWarning: X does not have valid feature names, but LogisticRegression was fitted with feature names\n",
      "  warnings.warn(\n",
      "/home/crisu/miniconda3/envs/MDS-BBDD/lib/python3.8/site-packages/sklearn/base.py:465: UserWarning: X does not have valid feature names, but LogisticRegression was fitted with feature names\n",
      "  warnings.warn(\n",
      "/home/crisu/miniconda3/envs/MDS-BBDD/lib/python3.8/site-packages/sklearn/base.py:465: UserWarning: X does not have valid feature names, but LogisticRegression was fitted with feature names\n",
      "  warnings.warn(\n",
      "/home/crisu/miniconda3/envs/MDS-BBDD/lib/python3.8/site-packages/sklearn/base.py:465: UserWarning: X does not have valid feature names, but LogisticRegression was fitted with feature names\n",
      "  warnings.warn(\n",
      "/home/crisu/miniconda3/envs/MDS-BBDD/lib/python3.8/site-packages/sklearn/base.py:465: UserWarning: X does not have valid feature names, but LogisticRegression was fitted with feature names\n",
      "  warnings.warn(\n",
      "/home/crisu/miniconda3/envs/MDS-BBDD/lib/python3.8/site-packages/sklearn/base.py:465: UserWarning: X does not have valid feature names, but LogisticRegression was fitted with feature names\n",
      "  warnings.warn(\n",
      "/home/crisu/miniconda3/envs/MDS-BBDD/lib/python3.8/site-packages/sklearn/base.py:465: UserWarning: X does not have valid feature names, but LogisticRegression was fitted with feature names\n",
      "  warnings.warn(\n",
      "/home/crisu/miniconda3/envs/MDS-BBDD/lib/python3.8/site-packages/sklearn/base.py:465: UserWarning: X does not have valid feature names, but LogisticRegression was fitted with feature names\n",
      "  warnings.warn(\n",
      "/home/crisu/miniconda3/envs/MDS-BBDD/lib/python3.8/site-packages/sklearn/base.py:465: UserWarning: X does not have valid feature names, but LogisticRegression was fitted with feature names\n",
      "  warnings.warn(\n",
      "/home/crisu/miniconda3/envs/MDS-BBDD/lib/python3.8/site-packages/sklearn/base.py:465: UserWarning: X does not have valid feature names, but LogisticRegression was fitted with feature names\n",
      "  warnings.warn(\n",
      "/home/crisu/miniconda3/envs/MDS-BBDD/lib/python3.8/site-packages/sklearn/base.py:465: UserWarning: X does not have valid feature names, but LogisticRegression was fitted with feature names\n",
      "  warnings.warn(\n",
      "/home/crisu/miniconda3/envs/MDS-BBDD/lib/python3.8/site-packages/sklearn/base.py:465: UserWarning: X does not have valid feature names, but LogisticRegression was fitted with feature names\n",
      "  warnings.warn(\n",
      "                                                                                \r"
     ]
    }
   ],
   "execution_count": 101
  }
 ],
 "metadata": {
  "colab": {
   "provenance": []
  },
  "kernelspec": {
   "display_name": "Python 3 (ipykernel)",
   "name": "python3",
   "language": "python"
  },
  "language_info": {
   "name": "python"
  }
 },
 "nbformat": 4,
 "nbformat_minor": 0
}
